{
 "cells": [
  {
   "cell_type": "markdown",
   "id": "1c08c790-2747-4612-8f4f-a7a0039645ce",
   "metadata": {},
   "source": [
    "# Imports"
   ]
  },
  {
   "cell_type": "code",
   "execution_count": 1,
   "id": "2c06c3ad",
   "metadata": {},
   "outputs": [],
   "source": [
    "import pandas as pd\n",
    "import numpy as np\n",
    "import matplotlib.pyplot as plt\n",
    "# plt.style.use(\"fivethirtyeight\")\n",
    "import warnings\n",
    "warnings.filterwarnings('ignore')"
   ]
  },
  {
   "cell_type": "markdown",
   "id": "82599f26-6eb6-49cc-8f10-88eef0a9da81",
   "metadata": {},
   "source": [
    "# Visualizing Data"
   ]
  },
  {
   "cell_type": "code",
   "execution_count": 2,
   "id": "d2bbd2bd",
   "metadata": {},
   "outputs": [],
   "source": [
    "df = pd.read_csv('appl_stock.csv')"
   ]
  },
  {
   "cell_type": "code",
   "execution_count": 3,
   "id": "a0ca0aee",
   "metadata": {},
   "outputs": [
    {
     "data": {
      "text/html": [
       "<div>\n",
       "<style scoped>\n",
       "    .dataframe tbody tr th:only-of-type {\n",
       "        vertical-align: middle;\n",
       "    }\n",
       "\n",
       "    .dataframe tbody tr th {\n",
       "        vertical-align: top;\n",
       "    }\n",
       "\n",
       "    .dataframe thead th {\n",
       "        text-align: right;\n",
       "    }\n",
       "</style>\n",
       "<table border=\"1\" class=\"dataframe\">\n",
       "  <thead>\n",
       "    <tr style=\"text-align: right;\">\n",
       "      <th></th>\n",
       "      <th>Date</th>\n",
       "      <th>Close/Last</th>\n",
       "      <th>Volume</th>\n",
       "      <th>Open</th>\n",
       "      <th>High</th>\n",
       "      <th>Low</th>\n",
       "    </tr>\n",
       "  </thead>\n",
       "  <tbody>\n",
       "    <tr>\n",
       "      <th>0</th>\n",
       "      <td>02/28/2020</td>\n",
       "      <td>$273.36</td>\n",
       "      <td>106721200</td>\n",
       "      <td>$257.26</td>\n",
       "      <td>$278.41</td>\n",
       "      <td>$256.37</td>\n",
       "    </tr>\n",
       "    <tr>\n",
       "      <th>1</th>\n",
       "      <td>02/27/2020</td>\n",
       "      <td>$273.52</td>\n",
       "      <td>80151380</td>\n",
       "      <td>$281.1</td>\n",
       "      <td>$286</td>\n",
       "      <td>$272.96</td>\n",
       "    </tr>\n",
       "    <tr>\n",
       "      <th>2</th>\n",
       "      <td>02/26/2020</td>\n",
       "      <td>$292.65</td>\n",
       "      <td>49678430</td>\n",
       "      <td>$286.53</td>\n",
       "      <td>$297.88</td>\n",
       "      <td>$286.5</td>\n",
       "    </tr>\n",
       "    <tr>\n",
       "      <th>3</th>\n",
       "      <td>02/25/2020</td>\n",
       "      <td>$288.08</td>\n",
       "      <td>57668360</td>\n",
       "      <td>$300.95</td>\n",
       "      <td>$302.53</td>\n",
       "      <td>$286.13</td>\n",
       "    </tr>\n",
       "    <tr>\n",
       "      <th>4</th>\n",
       "      <td>02/24/2020</td>\n",
       "      <td>$298.18</td>\n",
       "      <td>55548830</td>\n",
       "      <td>$297.26</td>\n",
       "      <td>$304.18</td>\n",
       "      <td>$289.23</td>\n",
       "    </tr>\n",
       "    <tr>\n",
       "      <th>...</th>\n",
       "      <td>...</td>\n",
       "      <td>...</td>\n",
       "      <td>...</td>\n",
       "      <td>...</td>\n",
       "      <td>...</td>\n",
       "      <td>...</td>\n",
       "    </tr>\n",
       "    <tr>\n",
       "      <th>2513</th>\n",
       "      <td>03/05/2010</td>\n",
       "      <td>$31.2786</td>\n",
       "      <td>224647427</td>\n",
       "      <td>$30.7057</td>\n",
       "      <td>$31.3857</td>\n",
       "      <td>$30.6614</td>\n",
       "    </tr>\n",
       "    <tr>\n",
       "      <th>2514</th>\n",
       "      <td>03/04/2010</td>\n",
       "      <td>$30.1014</td>\n",
       "      <td>89591907</td>\n",
       "      <td>$29.8971</td>\n",
       "      <td>$30.1314</td>\n",
       "      <td>$29.8043</td>\n",
       "    </tr>\n",
       "    <tr>\n",
       "      <th>2515</th>\n",
       "      <td>03/03/2010</td>\n",
       "      <td>$29.9043</td>\n",
       "      <td>92846488</td>\n",
       "      <td>$29.8486</td>\n",
       "      <td>$29.9814</td>\n",
       "      <td>$29.7057</td>\n",
       "    </tr>\n",
       "    <tr>\n",
       "      <th>2516</th>\n",
       "      <td>03/02/2010</td>\n",
       "      <td>$29.8357</td>\n",
       "      <td>141486282</td>\n",
       "      <td>$29.99</td>\n",
       "      <td>$30.1186</td>\n",
       "      <td>$29.6771</td>\n",
       "    </tr>\n",
       "    <tr>\n",
       "      <th>2517</th>\n",
       "      <td>03/01/2010</td>\n",
       "      <td>$29.8557</td>\n",
       "      <td>137312041</td>\n",
       "      <td>$29.3928</td>\n",
       "      <td>$29.9286</td>\n",
       "      <td>$29.35</td>\n",
       "    </tr>\n",
       "  </tbody>\n",
       "</table>\n",
       "<p>2518 rows × 6 columns</p>\n",
       "</div>"
      ],
      "text/plain": [
       "            Date  Close/Last     Volume       Open       High        Low\n",
       "0     02/28/2020     $273.36  106721200    $257.26    $278.41    $256.37\n",
       "1     02/27/2020     $273.52   80151380     $281.1       $286    $272.96\n",
       "2     02/26/2020     $292.65   49678430    $286.53    $297.88     $286.5\n",
       "3     02/25/2020     $288.08   57668360    $300.95    $302.53    $286.13\n",
       "4     02/24/2020     $298.18   55548830    $297.26    $304.18    $289.23\n",
       "...          ...         ...        ...        ...        ...        ...\n",
       "2513  03/05/2010    $31.2786  224647427   $30.7057   $31.3857   $30.6614\n",
       "2514  03/04/2010    $30.1014   89591907   $29.8971   $30.1314   $29.8043\n",
       "2515  03/03/2010    $29.9043   92846488   $29.8486   $29.9814   $29.7057\n",
       "2516  03/02/2010    $29.8357  141486282     $29.99   $30.1186   $29.6771\n",
       "2517  03/01/2010    $29.8557  137312041   $29.3928   $29.9286     $29.35\n",
       "\n",
       "[2518 rows x 6 columns]"
      ]
     },
     "execution_count": 3,
     "metadata": {},
     "output_type": "execute_result"
    }
   ],
   "source": [
    "df"
   ]
  },
  {
   "cell_type": "code",
   "execution_count": 4,
   "id": "4d9b948f",
   "metadata": {},
   "outputs": [
    {
     "name": "stdout",
     "output_type": "stream",
     "text": [
      "<class 'pandas.core.frame.DataFrame'>\n",
      "RangeIndex: 2518 entries, 0 to 2517\n",
      "Data columns (total 6 columns):\n",
      " #   Column       Non-Null Count  Dtype \n",
      "---  ------       --------------  ----- \n",
      " 0   Date         2518 non-null   object\n",
      " 1    Close/Last  2518 non-null   object\n",
      " 2    Volume      2518 non-null   int64 \n",
      " 3    Open        2518 non-null   object\n",
      " 4    High        2518 non-null   object\n",
      " 5    Low         2518 non-null   object\n",
      "dtypes: int64(1), object(5)\n",
      "memory usage: 118.2+ KB\n"
     ]
    }
   ],
   "source": [
    "df.info()"
   ]
  },
  {
   "cell_type": "code",
   "execution_count": 5,
   "id": "9faf05ef",
   "metadata": {},
   "outputs": [
    {
     "data": {
      "text/html": [
       "<div>\n",
       "<style scoped>\n",
       "    .dataframe tbody tr th:only-of-type {\n",
       "        vertical-align: middle;\n",
       "    }\n",
       "\n",
       "    .dataframe tbody tr th {\n",
       "        vertical-align: top;\n",
       "    }\n",
       "\n",
       "    .dataframe thead th {\n",
       "        text-align: right;\n",
       "    }\n",
       "</style>\n",
       "<table border=\"1\" class=\"dataframe\">\n",
       "  <thead>\n",
       "    <tr style=\"text-align: right;\">\n",
       "      <th></th>\n",
       "      <th>index</th>\n",
       "      <th>Date</th>\n",
       "      <th>Close/Last</th>\n",
       "      <th>Volume</th>\n",
       "      <th>Open</th>\n",
       "      <th>High</th>\n",
       "      <th>Low</th>\n",
       "    </tr>\n",
       "  </thead>\n",
       "  <tbody>\n",
       "    <tr>\n",
       "      <th>0</th>\n",
       "      <td>2517</td>\n",
       "      <td>03/01/2010</td>\n",
       "      <td>$29.8557</td>\n",
       "      <td>137312041</td>\n",
       "      <td>$29.3928</td>\n",
       "      <td>$29.9286</td>\n",
       "      <td>$29.35</td>\n",
       "    </tr>\n",
       "    <tr>\n",
       "      <th>1</th>\n",
       "      <td>2516</td>\n",
       "      <td>03/02/2010</td>\n",
       "      <td>$29.8357</td>\n",
       "      <td>141486282</td>\n",
       "      <td>$29.99</td>\n",
       "      <td>$30.1186</td>\n",
       "      <td>$29.6771</td>\n",
       "    </tr>\n",
       "    <tr>\n",
       "      <th>2</th>\n",
       "      <td>2515</td>\n",
       "      <td>03/03/2010</td>\n",
       "      <td>$29.9043</td>\n",
       "      <td>92846488</td>\n",
       "      <td>$29.8486</td>\n",
       "      <td>$29.9814</td>\n",
       "      <td>$29.7057</td>\n",
       "    </tr>\n",
       "    <tr>\n",
       "      <th>3</th>\n",
       "      <td>2514</td>\n",
       "      <td>03/04/2010</td>\n",
       "      <td>$30.1014</td>\n",
       "      <td>89591907</td>\n",
       "      <td>$29.8971</td>\n",
       "      <td>$30.1314</td>\n",
       "      <td>$29.8043</td>\n",
       "    </tr>\n",
       "    <tr>\n",
       "      <th>4</th>\n",
       "      <td>2513</td>\n",
       "      <td>03/05/2010</td>\n",
       "      <td>$31.2786</td>\n",
       "      <td>224647427</td>\n",
       "      <td>$30.7057</td>\n",
       "      <td>$31.3857</td>\n",
       "      <td>$30.6614</td>\n",
       "    </tr>\n",
       "    <tr>\n",
       "      <th>...</th>\n",
       "      <td>...</td>\n",
       "      <td>...</td>\n",
       "      <td>...</td>\n",
       "      <td>...</td>\n",
       "      <td>...</td>\n",
       "      <td>...</td>\n",
       "      <td>...</td>\n",
       "    </tr>\n",
       "    <tr>\n",
       "      <th>2513</th>\n",
       "      <td>4</td>\n",
       "      <td>02/24/2020</td>\n",
       "      <td>$298.18</td>\n",
       "      <td>55548830</td>\n",
       "      <td>$297.26</td>\n",
       "      <td>$304.18</td>\n",
       "      <td>$289.23</td>\n",
       "    </tr>\n",
       "    <tr>\n",
       "      <th>2514</th>\n",
       "      <td>3</td>\n",
       "      <td>02/25/2020</td>\n",
       "      <td>$288.08</td>\n",
       "      <td>57668360</td>\n",
       "      <td>$300.95</td>\n",
       "      <td>$302.53</td>\n",
       "      <td>$286.13</td>\n",
       "    </tr>\n",
       "    <tr>\n",
       "      <th>2515</th>\n",
       "      <td>2</td>\n",
       "      <td>02/26/2020</td>\n",
       "      <td>$292.65</td>\n",
       "      <td>49678430</td>\n",
       "      <td>$286.53</td>\n",
       "      <td>$297.88</td>\n",
       "      <td>$286.5</td>\n",
       "    </tr>\n",
       "    <tr>\n",
       "      <th>2516</th>\n",
       "      <td>1</td>\n",
       "      <td>02/27/2020</td>\n",
       "      <td>$273.52</td>\n",
       "      <td>80151380</td>\n",
       "      <td>$281.1</td>\n",
       "      <td>$286</td>\n",
       "      <td>$272.96</td>\n",
       "    </tr>\n",
       "    <tr>\n",
       "      <th>2517</th>\n",
       "      <td>0</td>\n",
       "      <td>02/28/2020</td>\n",
       "      <td>$273.36</td>\n",
       "      <td>106721200</td>\n",
       "      <td>$257.26</td>\n",
       "      <td>$278.41</td>\n",
       "      <td>$256.37</td>\n",
       "    </tr>\n",
       "  </tbody>\n",
       "</table>\n",
       "<p>2518 rows × 7 columns</p>\n",
       "</div>"
      ],
      "text/plain": [
       "      index        Date  Close/Last     Volume       Open       High  \\\n",
       "0      2517  03/01/2010    $29.8557  137312041   $29.3928   $29.9286   \n",
       "1      2516  03/02/2010    $29.8357  141486282     $29.99   $30.1186   \n",
       "2      2515  03/03/2010    $29.9043   92846488   $29.8486   $29.9814   \n",
       "3      2514  03/04/2010    $30.1014   89591907   $29.8971   $30.1314   \n",
       "4      2513  03/05/2010    $31.2786  224647427   $30.7057   $31.3857   \n",
       "...     ...         ...         ...        ...        ...        ...   \n",
       "2513      4  02/24/2020     $298.18   55548830    $297.26    $304.18   \n",
       "2514      3  02/25/2020     $288.08   57668360    $300.95    $302.53   \n",
       "2515      2  02/26/2020     $292.65   49678430    $286.53    $297.88   \n",
       "2516      1  02/27/2020     $273.52   80151380     $281.1       $286   \n",
       "2517      0  02/28/2020     $273.36  106721200    $257.26    $278.41   \n",
       "\n",
       "            Low  \n",
       "0        $29.35  \n",
       "1      $29.6771  \n",
       "2      $29.7057  \n",
       "3      $29.8043  \n",
       "4      $30.6614  \n",
       "...         ...  \n",
       "2513    $289.23  \n",
       "2514    $286.13  \n",
       "2515     $286.5  \n",
       "2516    $272.96  \n",
       "2517    $256.37  \n",
       "\n",
       "[2518 rows x 7 columns]"
      ]
     },
     "execution_count": 5,
     "metadata": {},
     "output_type": "execute_result"
    }
   ],
   "source": [
    "df = df.reindex(index=df.index[::-1])\n",
    "df = df.reset_index()\n",
    "df"
   ]
  },
  {
   "cell_type": "code",
   "execution_count": 6,
   "id": "318f05dc",
   "metadata": {},
   "outputs": [],
   "source": [
    "df = df.drop('index', 1)"
   ]
  },
  {
   "cell_type": "code",
   "execution_count": 7,
   "id": "216755d2",
   "metadata": {},
   "outputs": [],
   "source": [
    "df.columns = ['date', 'close', 'volume', 'open', 'high','low']"
   ]
  },
  {
   "cell_type": "code",
   "execution_count": 8,
   "id": "41fad13a",
   "metadata": {},
   "outputs": [
    {
     "data": {
      "text/plain": [
       "0       29.8557\n",
       "1       29.8357\n",
       "2       29.9043\n",
       "3       30.1014\n",
       "4       31.2786\n",
       "         ...   \n",
       "2513     298.18\n",
       "2514     288.08\n",
       "2515     292.65\n",
       "2516     273.52\n",
       "2517     273.36\n",
       "Name: close, Length: 2518, dtype: object"
      ]
     },
     "execution_count": 8,
     "metadata": {},
     "output_type": "execute_result"
    }
   ],
   "source": [
    "j=0\n",
    "for i in df['close']:\n",
    "    df['close'][j] = i[2:]\n",
    "    j+=1\n",
    "df['close']"
   ]
  },
  {
   "cell_type": "code",
   "execution_count": 9,
   "id": "9f28816f",
   "metadata": {},
   "outputs": [
    {
     "name": "stdout",
     "output_type": "stream",
     "text": [
      "<class 'pandas.core.frame.DataFrame'>\n",
      "RangeIndex: 2518 entries, 0 to 2517\n",
      "Data columns (total 6 columns):\n",
      " #   Column  Non-Null Count  Dtype  \n",
      "---  ------  --------------  -----  \n",
      " 0   date    2518 non-null   object \n",
      " 1   close   2518 non-null   float64\n",
      " 2   volume  2518 non-null   int64  \n",
      " 3   open    2518 non-null   object \n",
      " 4   high    2518 non-null   object \n",
      " 5   low     2518 non-null   object \n",
      "dtypes: float64(1), int64(1), object(4)\n",
      "memory usage: 118.2+ KB\n"
     ]
    }
   ],
   "source": [
    "df['close'] = pd.to_numeric(df['close'])\n",
    "df.info()"
   ]
  },
  {
   "cell_type": "code",
   "execution_count": 10,
   "id": "b8b76a88",
   "metadata": {},
   "outputs": [
    {
     "data": {
      "image/png": "[encoded data removed]",
      "text/plain": [
       "<Figure size 640x480 with 1 Axes>"
      ]
     },
     "metadata": {},
     "output_type": "display_data"
    }
   ],
   "source": [
    "plt.plot(df['close'])\n",
    "plt.ylabel('Close')\n",
    "plt.xlabel('Time')\n",
    "plt.show()"
   ]
  },
  {
   "cell_type": "code",
   "execution_count": 11,
   "id": "5672c73a",
   "metadata": {},
   "outputs": [],
   "source": [
    "close = df['close']"
   ]
  },
  {
   "cell_type": "code",
   "execution_count": 12,
   "id": "0465b72b",
   "metadata": {},
   "outputs": [
    {
     "data": {
      "text/plain": [
       "0        29.8557\n",
       "1        29.8357\n",
       "2        29.9043\n",
       "3        30.1014\n",
       "4        31.2786\n",
       "          ...   \n",
       "2513    298.1800\n",
       "2514    288.0800\n",
       "2515    292.6500\n",
       "2516    273.5200\n",
       "2517    273.3600\n",
       "Name: close, Length: 2518, dtype: float64"
      ]
     },
     "execution_count": 12,
     "metadata": {},
     "output_type": "execute_result"
    }
   ],
   "source": [
    "close"
   ]
  },
  {
   "cell_type": "code",
   "execution_count": 13,
   "id": "92019372",
   "metadata": {},
   "outputs": [
    {
     "data": {
      "text/plain": [
       "array([ 29.8557,  29.8357,  29.9043, ..., 292.65  , 273.52  , 273.36  ])"
      ]
     },
     "execution_count": 13,
     "metadata": {},
     "output_type": "execute_result"
    }
   ],
   "source": [
    "close = np.array(close)\n",
    "close"
   ]
  },
  {
   "cell_type": "code",
   "execution_count": 14,
   "id": "152dd7b7",
   "metadata": {},
   "outputs": [
    {
     "data": {
      "text/plain": [
       "array([[ 29.8557],\n",
       "       [ 29.8357],\n",
       "       [ 29.9043],\n",
       "       ...,\n",
       "       [292.65  ],\n",
       "       [273.52  ],\n",
       "       [273.36  ]])"
      ]
     },
     "execution_count": 14,
     "metadata": {},
     "output_type": "execute_result"
    }
   ],
   "source": [
    "close = close.reshape(-1,1)\n",
    "close"
   ]
  },
  {
   "cell_type": "markdown",
   "id": "dbdcd8e9-e243-4fcc-bbc7-a8a5a4e851ea",
   "metadata": {},
   "source": [
    "# Normalizing the Data"
   ]
  },
  {
   "cell_type": "code",
   "execution_count": 15,
   "id": "53297342",
   "metadata": {},
   "outputs": [],
   "source": [
    "from sklearn.preprocessing import MinMaxScaler\n",
    "scaler = MinMaxScaler(feature_range=(0,1))\n",
    "close=scaler.fit_transform(close)"
   ]
  },
  {
   "cell_type": "code",
   "execution_count": 16,
   "id": "e4590a2d",
   "metadata": {},
   "outputs": [
    {
     "data": {
      "text/plain": [
       "array([[6.72575693e-05],\n",
       "       [0.00000000e+00],\n",
       "       [2.30693463e-04],\n",
       "       ...,\n",
       "       [8.83812549e-01],\n",
       "       [8.19480684e-01],\n",
       "       [8.18942624e-01]])"
      ]
     },
     "execution_count": 16,
     "metadata": {},
     "output_type": "execute_result"
    }
   ],
   "source": [
    "close"
   ]
  },
  {
   "cell_type": "code",
   "execution_count": 17,
   "id": "6b4cdb04",
   "metadata": {},
   "outputs": [],
   "source": [
    "train_s=int(len(close)*0.70)\n",
    "test_s=len(close)-train_s\n",
    "train = close[0:train_s,:]\n",
    "test = close[train_s:len(close),:1]"
   ]
  },
  {
   "cell_type": "code",
   "execution_count": 18,
   "id": "b8636563",
   "metadata": {},
   "outputs": [
    {
     "data": {
      "text/plain": [
       "(1762, 1)"
      ]
     },
     "execution_count": 18,
     "metadata": {},
     "output_type": "execute_result"
    }
   ],
   "source": [
    "train.shape"
   ]
  },
  {
   "cell_type": "markdown",
   "id": "bffbc996-1cb8-4fdd-95c0-6aba5b945944",
   "metadata": {},
   "source": [
    "# Creating the Dataset\n",
    "### Here we divide the dataset such that the sets contain prices of 100 days and then the price of the next day"
   ]
  },
  {
   "cell_type": "code",
   "execution_count": 19,
   "id": "b6e4a281",
   "metadata": {},
   "outputs": [],
   "source": [
    "def create_dataset(data,step):\n",
    "    X=[]\n",
    "    y=[]\n",
    "    for i in range(len(data)-step-1):\n",
    "        a = data[i:(i+step)]\n",
    "        X.append(a)\n",
    "        y.append(data[i+step])\n",
    "    return np.array(X),np.array(y)"
   ]
  },
  {
   "cell_type": "code",
   "execution_count": 20,
   "id": "0842c33d",
   "metadata": {},
   "outputs": [],
   "source": [
    "time_step = 100\n",
    "X_train, y_train = create_dataset(train, time_step)\n",
    "X_test, y_test = create_dataset(test, time_step)"
   ]
  },
  {
   "cell_type": "code",
   "execution_count": 21,
   "id": "6520c515",
   "metadata": {},
   "outputs": [
    {
     "data": {
      "text/plain": [
       "(1661, 100, 1)"
      ]
     },
     "execution_count": 21,
     "metadata": {},
     "output_type": "execute_result"
    }
   ],
   "source": [
    "X_train.shape"
   ]
  },
  {
   "cell_type": "markdown",
   "id": "af3d25b3-2ac8-41af-890f-cf4a0aa4e9c3",
   "metadata": {},
   "source": [
    "# Defining model layers"
   ]
  },
  {
   "cell_type": "code",
   "execution_count": 22,
   "id": "357c0768",
   "metadata": {},
   "outputs": [],
   "source": [
    "from tensorflow.keras.models import Sequential\n",
    "from tensorflow.keras.layers import Dense\n",
    "from tensorflow.keras.layers import LSTM\n",
    "from tensorflow.keras.layers import GRU\n",
    "from tensorflow.keras.layers import Dropout"
   ]
  },
  {
   "cell_type": "code",
   "execution_count": 23,
   "id": "2c0caea0",
   "metadata": {},
   "outputs": [],
   "source": [
    "model=Sequential()\n",
    "model.add(LSTM(50,return_sequences=True,input_shape=(100,1)))\n",
    "model.add(LSTM(50,return_sequences=True))\n",
    "model.add(LSTM(50))\n",
    "model.add(Dense(1))\n",
    "model.compile(loss='mean_squared_error',optimizer='adam')"
   ]
  },
  {
   "cell_type": "code",
   "execution_count": 24,
   "id": "19a4889b",
   "metadata": {},
   "outputs": [
    {
     "name": "stdout",
     "output_type": "stream",
     "text": [
      "Model: \"sequential\"\n",
      "_________________________________________________________________\n",
      " Layer (type)                Output Shape              Param #   \n",
      "=================================================================\n",
      " lstm (LSTM)                 (None, 100, 50)           10400     \n",
      "                                                                 \n",
      " lstm_1 (LSTM)               (None, 100, 50)           20200     \n",
      "                                                                 \n",
      " lstm_2 (LSTM)               (None, 50)                20200     \n",
      "                                                                 \n",
      " dense (Dense)               (None, 1)                 51        \n",
      "                                                                 \n",
      "=================================================================\n",
      "Total params: 50,851\n",
      "Trainable params: 50,851\n",
      "Non-trainable params: 0\n",
      "_________________________________________________________________\n"
     ]
    }
   ],
   "source": [
    "model.summary()"
   ]
  },
  {
   "cell_type": "markdown",
   "id": "b93c89c1-00ae-440c-9f98-8a863d56b32f",
   "metadata": {},
   "source": [
    "# Training"
   ]
  },
  {
   "cell_type": "code",
   "execution_count": 25,
   "id": "55269133",
   "metadata": {},
   "outputs": [
    {
     "name": "stdout",
     "output_type": "stream",
     "text": [
      "Epoch 1/50\n",
      "26/26 [==============================] - 14s 112ms/step - loss: 0.0044 - val_loss: 0.0188\n",
      "Epoch 2/50\n",
      "26/26 [==============================] - 1s 48ms/step - loss: 3.6622e-04 - val_loss: 0.0017\n",
      "Epoch 3/50\n",
      "26/26 [==============================] - 1s 47ms/step - loss: 2.1238e-04 - val_loss: 0.0029\n",
      "Epoch 4/50\n",
      "26/26 [==============================] - 1s 47ms/step - loss: 2.0018e-04 - val_loss: 0.0037\n",
      "Epoch 5/50\n",
      "26/26 [==============================] - 1s 47ms/step - loss: 2.0516e-04 - val_loss: 0.0023\n",
      "Epoch 6/50\n",
      "26/26 [==============================] - 1s 47ms/step - loss: 1.9575e-04 - val_loss: 0.0028\n",
      "Epoch 7/50\n",
      "26/26 [==============================] - 1s 48ms/step - loss: 1.8312e-04 - val_loss: 0.0025\n",
      "Epoch 8/50\n",
      "26/26 [==============================] - 1s 49ms/step - loss: 1.7970e-04 - val_loss: 0.0031\n",
      "Epoch 9/50\n",
      "26/26 [==============================] - 1s 46ms/step - loss: 1.7219e-04 - val_loss: 0.0033\n",
      "Epoch 10/50\n",
      "26/26 [==============================] - 1s 47ms/step - loss: 1.6357e-04 - val_loss: 0.0022\n",
      "Epoch 11/50\n",
      "26/26 [==============================] - 1s 48ms/step - loss: 1.5252e-04 - val_loss: 0.0022\n",
      "Epoch 12/50\n",
      "26/26 [==============================] - 1s 48ms/step - loss: 1.5563e-04 - val_loss: 0.0024\n",
      "Epoch 13/50\n",
      "26/26 [==============================] - 1s 51ms/step - loss: 1.4324e-04 - val_loss: 0.0028\n",
      "Epoch 14/50\n",
      "26/26 [==============================] - 1s 52ms/step - loss: 1.3966e-04 - val_loss: 0.0013\n",
      "Epoch 15/50\n",
      "26/26 [==============================] - 1s 51ms/step - loss: 1.4453e-04 - val_loss: 0.0029\n",
      "Epoch 16/50\n",
      "26/26 [==============================] - 1s 50ms/step - loss: 1.2849e-04 - val_loss: 0.0015\n",
      "Epoch 17/50\n",
      "26/26 [==============================] - 1s 49ms/step - loss: 1.3893e-04 - val_loss: 0.0023\n",
      "Epoch 18/50\n",
      "26/26 [==============================] - 1s 48ms/step - loss: 1.2276e-04 - val_loss: 0.0017\n",
      "Epoch 19/50\n",
      "26/26 [==============================] - 1s 47ms/step - loss: 1.1369e-04 - val_loss: 0.0030\n",
      "Epoch 20/50\n",
      "26/26 [==============================] - 1s 48ms/step - loss: 1.1698e-04 - val_loss: 0.0018\n",
      "Epoch 21/50\n",
      "26/26 [==============================] - 1s 49ms/step - loss: 1.1818e-04 - val_loss: 0.0014\n",
      "Epoch 22/50\n",
      "26/26 [==============================] - 1s 49ms/step - loss: 1.1121e-04 - val_loss: 0.0018\n",
      "Epoch 23/50\n",
      "26/26 [==============================] - 1s 48ms/step - loss: 1.0585e-04 - val_loss: 8.3545e-04\n",
      "Epoch 24/50\n",
      "26/26 [==============================] - 1s 48ms/step - loss: 1.0331e-04 - val_loss: 6.5247e-04\n",
      "Epoch 25/50\n",
      "26/26 [==============================] - 1s 48ms/step - loss: 1.1492e-04 - val_loss: 5.5107e-04\n",
      "Epoch 26/50\n",
      "26/26 [==============================] - 1s 48ms/step - loss: 1.1124e-04 - val_loss: 9.4586e-04\n",
      "Epoch 27/50\n",
      "26/26 [==============================] - 1s 50ms/step - loss: 9.6982e-05 - val_loss: 7.0004e-04\n",
      "Epoch 28/50\n",
      "26/26 [==============================] - 1s 48ms/step - loss: 9.5059e-05 - val_loss: 9.7845e-04\n",
      "Epoch 29/50\n",
      "26/26 [==============================] - 1s 50ms/step - loss: 9.7003e-05 - val_loss: 0.0011\n",
      "Epoch 30/50\n",
      "26/26 [==============================] - 1s 48ms/step - loss: 9.7280e-05 - val_loss: 8.8347e-04\n",
      "Epoch 31/50\n",
      "26/26 [==============================] - 1s 49ms/step - loss: 9.7387e-05 - val_loss: 0.0010\n",
      "Epoch 32/50\n",
      "26/26 [==============================] - 1s 52ms/step - loss: 9.5247e-05 - val_loss: 0.0019\n",
      "Epoch 33/50\n",
      "26/26 [==============================] - 1s 49ms/step - loss: 8.9749e-05 - val_loss: 7.0581e-04\n",
      "Epoch 34/50\n",
      "26/26 [==============================] - 1s 50ms/step - loss: 8.3983e-05 - val_loss: 0.0016\n",
      "Epoch 35/50\n",
      "26/26 [==============================] - 1s 49ms/step - loss: 9.1925e-05 - val_loss: 8.4766e-04\n",
      "Epoch 36/50\n",
      "26/26 [==============================] - 1s 49ms/step - loss: 8.0880e-05 - val_loss: 0.0010\n",
      "Epoch 37/50\n",
      "26/26 [==============================] - 1s 47ms/step - loss: 8.0940e-05 - val_loss: 0.0015\n",
      "Epoch 38/50\n",
      "26/26 [==============================] - 1s 48ms/step - loss: 9.7002e-05 - val_loss: 6.7244e-04\n",
      "Epoch 39/50\n",
      "26/26 [==============================] - 1s 47ms/step - loss: 9.4823e-05 - val_loss: 0.0010\n",
      "Epoch 40/50\n",
      "26/26 [==============================] - 1s 49ms/step - loss: 7.8659e-05 - val_loss: 4.4994e-04\n",
      "Epoch 41/50\n",
      "26/26 [==============================] - 1s 50ms/step - loss: 8.5486e-05 - val_loss: 7.0882e-04\n",
      "Epoch 42/50\n",
      "26/26 [==============================] - 1s 49ms/step - loss: 7.9023e-05 - val_loss: 5.7999e-04\n",
      "Epoch 43/50\n",
      "26/26 [==============================] - 1s 48ms/step - loss: 7.1880e-05 - val_loss: 8.2694e-04\n",
      "Epoch 44/50\n",
      "26/26 [==============================] - 1s 48ms/step - loss: 7.3057e-05 - val_loss: 4.1315e-04\n",
      "Epoch 45/50\n",
      "26/26 [==============================] - 1s 49ms/step - loss: 7.5400e-05 - val_loss: 0.0011\n",
      "Epoch 46/50\n",
      "26/26 [==============================] - 1s 49ms/step - loss: 8.1929e-05 - val_loss: 4.7171e-04\n",
      "Epoch 47/50\n",
      "26/26 [==============================] - 1s 47ms/step - loss: 8.0854e-05 - val_loss: 0.0012\n",
      "Epoch 48/50\n",
      "26/26 [==============================] - 1s 48ms/step - loss: 7.2993e-05 - val_loss: 6.5638e-04\n",
      "Epoch 49/50\n",
      "26/26 [==============================] - 1s 48ms/step - loss: 6.8659e-05 - val_loss: 4.6740e-04\n",
      "Epoch 50/50\n",
      "26/26 [==============================] - 1s 48ms/step - loss: 6.7999e-05 - val_loss: 5.1065e-04\n"
     ]
    }
   ],
   "source": [
    "history = model.fit(X_train,y_train,validation_data=(X_test,y_test),epochs=50,batch_size=64,verbose=1)"
   ]
  },
  {
   "cell_type": "code",
   "execution_count": 26,
   "id": "2d0741bf",
   "metadata": {},
   "outputs": [
    {
     "name": "stdout",
     "output_type": "stream",
     "text": [
      "dict_keys(['loss', 'val_loss'])\n"
     ]
    }
   ],
   "source": [
    "print(history.history.keys())"
   ]
  },
  {
   "cell_type": "code",
   "execution_count": 27,
   "id": "9d57dc81",
   "metadata": {},
   "outputs": [
    {
     "data": {
      "image/png": "[encoded data removed]",
      "text/plain": [
       "<Figure size 640x480 with 1 Axes>"
      ]
     },
     "metadata": {},
     "output_type": "display_data"
    }
   ],
   "source": [
    "plt.plot(history.history['loss'])\n",
    "plt.plot(history.history['val_loss'])\n",
    "plt.show()"
   ]
  },
  {
   "cell_type": "code",
   "execution_count": 28,
   "id": "a66273d6",
   "metadata": {},
   "outputs": [
    {
     "name": "stdout",
     "output_type": "stream",
     "text": [
      "52/52 [==============================] - 2s 15ms/step\n",
      "21/21 [==============================] - 0s 12ms/step\n"
     ]
    }
   ],
   "source": [
    "train_predict=model.predict(X_train)\n",
    "test_predict=model.predict(X_test)"
   ]
  },
  {
   "cell_type": "code",
   "execution_count": 29,
   "id": "4ca3abdc",
   "metadata": {},
   "outputs": [
    {
     "data": {
      "text/plain": [
       "0.022597555380416176"
      ]
     },
     "execution_count": 29,
     "metadata": {},
     "output_type": "execute_result"
    }
   ],
   "source": [
    "import math\n",
    "from sklearn.metrics import mean_squared_error\n",
    "math.sqrt(mean_squared_error(y_test,test_predict))"
   ]
  },
  {
   "cell_type": "code",
   "execution_count": 31,
   "id": "37156984",
   "metadata": {},
   "outputs": [],
   "source": [
    "train_predict=scaler.inverse_transform(train_predict)\n",
    "test_predict=scaler.inverse_transform(test_predict)"
   ]
  },
  {
   "cell_type": "markdown",
   "id": "2be9801d-b418-47e3-ad95-ee1515d3a531",
   "metadata": {},
   "source": [
    "# Visualizing the results\n",
    "### Here the model has predicted the prices using the last 100 days prices continously"
   ]
  },
  {
   "cell_type": "code",
   "execution_count": 32,
   "id": "5d12b629",
   "metadata": {},
   "outputs": [
    {
     "data": {
      "image/png": "[encoded data removed]",
      "text/plain": [
       "<Figure size 640x480 with 1 Axes>"
      ]
     },
     "metadata": {},
     "output_type": "display_data"
    }
   ],
   "source": [
    "look_back=100\n",
    "trainPredictPlot = np.empty_like(close)\n",
    "trainPredictPlot[:, :] = np.nan\n",
    "trainPredictPlot[look_back:len(train_predict)+look_back, :] = train_predict\n",
    "# shift test predictions for plotting\n",
    "testPredictPlot = np.empty_like(close)\n",
    "testPredictPlot[:, :] = np.nan\n",
    "testPredictPlot[len(train_predict)+(look_back*2)+1:len(close)-1, :] = test_predict\n",
    "# plot baseline and predictions\n",
    "plt.plot(scaler.inverse_transform(close))\n",
    "plt.plot(trainPredictPlot)\n",
    "plt.plot(testPredictPlot)\n",
    "plt.show()"
   ]
  },
  {
   "cell_type": "markdown",
   "id": "d1110975-c1bb-4bcf-a05d-3eae9f005c8f",
   "metadata": {},
   "source": [
    "# Prediction\n",
    "### - In this section i have taken the first 100 days and then predicted the 101th day price and then appended the predicted price to the previous 100 days prices and took the the new 100 days prices i,e 2-101 days prices and predicted the next.\n",
    "### - By doing this we can predict the next n day prices\n"
   ]
  },
  {
   "cell_type": "code",
   "execution_count": null,
   "id": "67378518-63a9-4d46-93bd-c1212633454a",
   "metadata": {},
   "outputs": [],
   "source": [
    "X_plot_full = close[-200:]"
   ]
  },
  {
   "cell_type": "code",
   "execution_count": 34,
   "id": "bc481fb3",
   "metadata": {},
   "outputs": [
    {
     "data": {
      "image/png": "[encoded data removed]",
      "text/plain": [
       "<Figure size 640x480 with 1 Axes>"
      ]
     },
     "metadata": {},
     "output_type": "display_data"
    }
   ],
   "source": [
    "plt.plot(X_plot_full)\n",
    "plt.show()"
   ]
  },
  {
   "cell_type": "code",
   "execution_count": 35,
   "id": "579dd612",
   "metadata": {},
   "outputs": [
    {
     "data": {
      "text/plain": [
       "(200, 1)"
      ]
     },
     "execution_count": 35,
     "metadata": {},
     "output_type": "execute_result"
    }
   ],
   "source": [
    "X_plot_full.shape"
   ]
  },
  {
   "cell_type": "code",
   "execution_count": 36,
   "id": "d9864c32",
   "metadata": {},
   "outputs": [
    {
     "data": {
      "text/plain": [
       "(1, 100)"
      ]
     },
     "execution_count": 36,
     "metadata": {},
     "output_type": "execute_result"
    }
   ],
   "source": [
    "x_input = X_plot_full[-100:].reshape((1,100))\n",
    "x_input.shape"
   ]
  },
  {
   "cell_type": "code",
   "execution_count": 37,
   "id": "e464dde0",
   "metadata": {},
   "outputs": [],
   "source": [
    "temp_input=list(x_input)\n",
    "temp_input=temp_input[0].tolist()"
   ]
  },
  {
   "cell_type": "code",
   "execution_count": 38,
   "id": "1d15dc30",
   "metadata": {},
   "outputs": [
    {
     "data": {
      "text/plain": [
       "[0.6632413507606663,\n",
       " 0.6542960940502945,\n",
       " 0.6631404644067899,\n",
       " 0.6734308725021799,\n",
       " 0.6940116886929601,\n",
       " 0.6928683100156945,\n",
       " 0.6910187268612943,\n",
       " 0.6878239923218759,\n",
       " 0.6908842117227925,\n",
       " 0.6946842643854693]"
      ]
     },
     "execution_count": 38,
     "metadata": {},
     "output_type": "execute_result"
    }
   ],
   "source": [
    "temp_input[:10]"
   ]
  },
  {
   "cell_type": "code",
   "execution_count": 39,
   "id": "5fe59efb",
   "metadata": {},
   "outputs": [
    {
     "name": "stdout",
     "output_type": "stream",
     "text": [
      "[0.81129116]\n",
      "101\n",
      "[[0.8112911581993103], [0.7835710644721985], [0.7591541409492493], [0.7371183037757874], [0.7167393565177917], [0.6976578831672668], [0.6797831654548645], [0.6631603837013245], [0.6478734612464905], [0.6339940428733826], [0.6215611100196838], [0.6105768084526062], [0.6010100245475769], [0.5928017497062683], [0.5858705639839172], [0.5801181197166443], [0.5754334330558777], [0.5716978907585144], [0.5687885284423828], [0.5665813088417053], [0.5649546384811401], [0.5637907981872559], [0.5629785656929016], [0.5624146461486816], [0.5620042681694031], [0.5616629123687744], [0.5613157153129578], [0.5608988404273987], [0.560358464717865], [0.5596513152122498]]\n"
     ]
    }
   ],
   "source": [
    "from numpy import array\n",
    "lst_output=[]\n",
    "n_steps=100\n",
    "i=0\n",
    "while(i<30):  \n",
    "    if(len(temp_input)>100):\n",
    "        x_input=np.array(temp_input[1:])\n",
    "        # print(\"{} day input {}\".format(i,x_input))\n",
    "        x_input=x_input.reshape(1,-1)\n",
    "        x_input = x_input.reshape((1, n_steps, 1))\n",
    "        yhat = model.predict(x_input, verbose=0)\n",
    "        # print(\"{} day output {}\".format(i,yhat))\n",
    "        temp_input.extend(yhat[0].tolist())\n",
    "        temp_input=temp_input[1:]\n",
    "        lst_output.extend(yhat.tolist())\n",
    "        i=i+1\n",
    "    else:\n",
    "        x_input = x_input.reshape((1, n_steps,1))\n",
    "        yhat = model.predict(x_input, verbose=0)\n",
    "        print(yhat[0])\n",
    "        temp_input.extend(yhat[0].tolist())\n",
    "        print(len(temp_input))\n",
    "        lst_output.extend(yhat.tolist())\n",
    "        i=i+1\n",
    "print(lst_output)"
   ]
  },
  {
   "cell_type": "code",
   "execution_count": 40,
   "id": "0cf28bb5",
   "metadata": {},
   "outputs": [],
   "source": [
    "day_new=np.arange(1,201)\n",
    "day_pred=np.arange(201,231)"
   ]
  },
  {
   "cell_type": "code",
   "execution_count": 41,
   "id": "cfbc8c12",
   "metadata": {},
   "outputs": [
    {
     "data": {
      "text/plain": [
       "[<matplotlib.lines.Line2D at 0x28322126200>]"
      ]
     },
     "execution_count": 41,
     "metadata": {},
     "output_type": "execute_result"
    },
    {
     "data": {
      "image/png": "[encoded data removed]",
      "text/plain": [
       "<Figure size 640x480 with 1 Axes>"
      ]
     },
     "metadata": {},
     "output_type": "display_data"
    }
   ],
   "source": [
    "plt.plot(day_new,scaler.inverse_transform(X_plot_full))\n",
    "plt.plot(day_pred,scaler.inverse_transform(lst_output))"
   ]
  },
  {
   "cell_type": "code",
   "execution_count": 42,
   "id": "c31b2e55",
   "metadata": {},
   "outputs": [
    {
     "data": {
      "text/plain": [
       "[<matplotlib.lines.Line2D at 0x283220d5990>]"
      ]
     },
     "execution_count": 42,
     "metadata": {},
     "output_type": "execute_result"
    },
    {
     "data": {
      "image/png": "[encoded data removed]",
      "text/plain": [
       "<Figure size 640x480 with 1 Axes>"
      ]
     },
     "metadata": {},
     "output_type": "display_data"
    }
   ],
   "source": [
    "plt.plot(temp_input)"
   ]
  },
  {
   "cell_type": "code",
   "execution_count": null,
   "id": "d5085861",
   "metadata": {},
   "outputs": [],
   "source": []
  },
  {
   "cell_type": "code",
   "execution_count": null,
   "id": "e23397f5",
   "metadata": {},
   "outputs": [],
   "source": []
  }
 ],
 "metadata": {
  "kernelspec": {
   "display_name": "Python 3 (ipykernel)",
   "language": "python",
   "name": "python3"
  },
  "language_info": {
   "codemirror_mode": {
    "name": "ipython",
    "version": 3
   },
   "file_extension": ".py",
   "mimetype": "text/x-python",
   "name": "python",
   "nbconvert_exporter": "python",
   "pygments_lexer": "ipython3",
   "version": "3.10.4"
  }
 },
 "nbformat": 4,
 "nbformat_minor": 5
}
