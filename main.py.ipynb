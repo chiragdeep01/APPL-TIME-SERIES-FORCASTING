{
 "cells": [
  {
   "cell_type": "code",
   "execution_count": 1,
   "id": "2c06c3ad",
   "metadata": {},
   "outputs": [],
   "source": [
    "import pandas as pd\n",
    "import numpy as np\n",
    "import matplotlib.pyplot as plt\n",
    "plt.style.use(\"fivethirtyeight\")\n",
    "import warnings\n",
    "warnings.filterwarnings('ignore')"
   ]
  },
  {
   "cell_type": "code",
   "execution_count": 2,
   "id": "d2bbd2bd",
   "metadata": {},
   "outputs": [],
   "source": [
    "df = pd.read_csv('appl_stock.csv')"
   ]
  },
  {
   "cell_type": "code",
   "execution_count": 3,
   "id": "a0ca0aee",
   "metadata": {},
   "outputs": [
    {
     "data": {
      "text/html": [
       "<div>\n",
       "<style scoped>\n",
       "    .dataframe tbody tr th:only-of-type {\n",
       "        vertical-align: middle;\n",
       "    }\n",
       "\n",
       "    .dataframe tbody tr th {\n",
       "        vertical-align: top;\n",
       "    }\n",
       "\n",
       "    .dataframe thead th {\n",
       "        text-align: right;\n",
       "    }\n",
       "</style>\n",
       "<table border=\"1\" class=\"dataframe\">\n",
       "  <thead>\n",
       "    <tr style=\"text-align: right;\">\n",
       "      <th></th>\n",
       "      <th>Date</th>\n",
       "      <th>Close/Last</th>\n",
       "      <th>Volume</th>\n",
       "      <th>Open</th>\n",
       "      <th>High</th>\n",
       "      <th>Low</th>\n",
       "    </tr>\n",
       "  </thead>\n",
       "  <tbody>\n",
       "    <tr>\n",
       "      <th>0</th>\n",
       "      <td>02/28/2020</td>\n",
       "      <td>$273.36</td>\n",
       "      <td>106721200</td>\n",
       "      <td>$257.26</td>\n",
       "      <td>$278.41</td>\n",
       "      <td>$256.37</td>\n",
       "    </tr>\n",
       "    <tr>\n",
       "      <th>1</th>\n",
       "      <td>02/27/2020</td>\n",
       "      <td>$273.52</td>\n",
       "      <td>80151380</td>\n",
       "      <td>$281.1</td>\n",
       "      <td>$286</td>\n",
       "      <td>$272.96</td>\n",
       "    </tr>\n",
       "    <tr>\n",
       "      <th>2</th>\n",
       "      <td>02/26/2020</td>\n",
       "      <td>$292.65</td>\n",
       "      <td>49678430</td>\n",
       "      <td>$286.53</td>\n",
       "      <td>$297.88</td>\n",
       "      <td>$286.5</td>\n",
       "    </tr>\n",
       "    <tr>\n",
       "      <th>3</th>\n",
       "      <td>02/25/2020</td>\n",
       "      <td>$288.08</td>\n",
       "      <td>57668360</td>\n",
       "      <td>$300.95</td>\n",
       "      <td>$302.53</td>\n",
       "      <td>$286.13</td>\n",
       "    </tr>\n",
       "    <tr>\n",
       "      <th>4</th>\n",
       "      <td>02/24/2020</td>\n",
       "      <td>$298.18</td>\n",
       "      <td>55548830</td>\n",
       "      <td>$297.26</td>\n",
       "      <td>$304.18</td>\n",
       "      <td>$289.23</td>\n",
       "    </tr>\n",
       "    <tr>\n",
       "      <th>...</th>\n",
       "      <td>...</td>\n",
       "      <td>...</td>\n",
       "      <td>...</td>\n",
       "      <td>...</td>\n",
       "      <td>...</td>\n",
       "      <td>...</td>\n",
       "    </tr>\n",
       "    <tr>\n",
       "      <th>2513</th>\n",
       "      <td>03/05/2010</td>\n",
       "      <td>$31.2786</td>\n",
       "      <td>224647427</td>\n",
       "      <td>$30.7057</td>\n",
       "      <td>$31.3857</td>\n",
       "      <td>$30.6614</td>\n",
       "    </tr>\n",
       "    <tr>\n",
       "      <th>2514</th>\n",
       "      <td>03/04/2010</td>\n",
       "      <td>$30.1014</td>\n",
       "      <td>89591907</td>\n",
       "      <td>$29.8971</td>\n",
       "      <td>$30.1314</td>\n",
       "      <td>$29.8043</td>\n",
       "    </tr>\n",
       "    <tr>\n",
       "      <th>2515</th>\n",
       "      <td>03/03/2010</td>\n",
       "      <td>$29.9043</td>\n",
       "      <td>92846488</td>\n",
       "      <td>$29.8486</td>\n",
       "      <td>$29.9814</td>\n",
       "      <td>$29.7057</td>\n",
       "    </tr>\n",
       "    <tr>\n",
       "      <th>2516</th>\n",
       "      <td>03/02/2010</td>\n",
       "      <td>$29.8357</td>\n",
       "      <td>141486282</td>\n",
       "      <td>$29.99</td>\n",
       "      <td>$30.1186</td>\n",
       "      <td>$29.6771</td>\n",
       "    </tr>\n",
       "    <tr>\n",
       "      <th>2517</th>\n",
       "      <td>03/01/2010</td>\n",
       "      <td>$29.8557</td>\n",
       "      <td>137312041</td>\n",
       "      <td>$29.3928</td>\n",
       "      <td>$29.9286</td>\n",
       "      <td>$29.35</td>\n",
       "    </tr>\n",
       "  </tbody>\n",
       "</table>\n",
       "<p>2518 rows × 6 columns</p>\n",
       "</div>"
      ],
      "text/plain": [
       "            Date  Close/Last     Volume       Open       High        Low\n",
       "0     02/28/2020     $273.36  106721200    $257.26    $278.41    $256.37\n",
       "1     02/27/2020     $273.52   80151380     $281.1       $286    $272.96\n",
       "2     02/26/2020     $292.65   49678430    $286.53    $297.88     $286.5\n",
       "3     02/25/2020     $288.08   57668360    $300.95    $302.53    $286.13\n",
       "4     02/24/2020     $298.18   55548830    $297.26    $304.18    $289.23\n",
       "...          ...         ...        ...        ...        ...        ...\n",
       "2513  03/05/2010    $31.2786  224647427   $30.7057   $31.3857   $30.6614\n",
       "2514  03/04/2010    $30.1014   89591907   $29.8971   $30.1314   $29.8043\n",
       "2515  03/03/2010    $29.9043   92846488   $29.8486   $29.9814   $29.7057\n",
       "2516  03/02/2010    $29.8357  141486282     $29.99   $30.1186   $29.6771\n",
       "2517  03/01/2010    $29.8557  137312041   $29.3928   $29.9286     $29.35\n",
       "\n",
       "[2518 rows x 6 columns]"
      ]
     },
     "execution_count": 3,
     "metadata": {},
     "output_type": "execute_result"
    }
   ],
   "source": [
    "df"
   ]
  },
  {
   "cell_type": "code",
   "execution_count": 4,
   "id": "4d9b948f",
   "metadata": {},
   "outputs": [
    {
     "name": "stdout",
     "output_type": "stream",
     "text": [
      "<class 'pandas.core.frame.DataFrame'>\n",
      "RangeIndex: 2518 entries, 0 to 2517\n",
      "Data columns (total 6 columns):\n",
      " #   Column       Non-Null Count  Dtype \n",
      "---  ------       --------------  ----- \n",
      " 0   Date         2518 non-null   object\n",
      " 1    Close/Last  2518 non-null   object\n",
      " 2    Volume      2518 non-null   int64 \n",
      " 3    Open        2518 non-null   object\n",
      " 4    High        2518 non-null   object\n",
      " 5    Low         2518 non-null   object\n",
      "dtypes: int64(1), object(5)\n",
      "memory usage: 118.2+ KB\n"
     ]
    }
   ],
   "source": [
    "df.info()"
   ]
  },
  {
   "cell_type": "code",
   "execution_count": 5,
   "id": "9faf05ef",
   "metadata": {},
   "outputs": [
    {
     "data": {
      "text/html": [
       "<div>\n",
       "<style scoped>\n",
       "    .dataframe tbody tr th:only-of-type {\n",
       "        vertical-align: middle;\n",
       "    }\n",
       "\n",
       "    .dataframe tbody tr th {\n",
       "        vertical-align: top;\n",
       "    }\n",
       "\n",
       "    .dataframe thead th {\n",
       "        text-align: right;\n",
       "    }\n",
       "</style>\n",
       "<table border=\"1\" class=\"dataframe\">\n",
       "  <thead>\n",
       "    <tr style=\"text-align: right;\">\n",
       "      <th></th>\n",
       "      <th>index</th>\n",
       "      <th>Date</th>\n",
       "      <th>Close/Last</th>\n",
       "      <th>Volume</th>\n",
       "      <th>Open</th>\n",
       "      <th>High</th>\n",
       "      <th>Low</th>\n",
       "    </tr>\n",
       "  </thead>\n",
       "  <tbody>\n",
       "    <tr>\n",
       "      <th>0</th>\n",
       "      <td>2517</td>\n",
       "      <td>03/01/2010</td>\n",
       "      <td>$29.8557</td>\n",
       "      <td>137312041</td>\n",
       "      <td>$29.3928</td>\n",
       "      <td>$29.9286</td>\n",
       "      <td>$29.35</td>\n",
       "    </tr>\n",
       "    <tr>\n",
       "      <th>1</th>\n",
       "      <td>2516</td>\n",
       "      <td>03/02/2010</td>\n",
       "      <td>$29.8357</td>\n",
       "      <td>141486282</td>\n",
       "      <td>$29.99</td>\n",
       "      <td>$30.1186</td>\n",
       "      <td>$29.6771</td>\n",
       "    </tr>\n",
       "    <tr>\n",
       "      <th>2</th>\n",
       "      <td>2515</td>\n",
       "      <td>03/03/2010</td>\n",
       "      <td>$29.9043</td>\n",
       "      <td>92846488</td>\n",
       "      <td>$29.8486</td>\n",
       "      <td>$29.9814</td>\n",
       "      <td>$29.7057</td>\n",
       "    </tr>\n",
       "    <tr>\n",
       "      <th>3</th>\n",
       "      <td>2514</td>\n",
       "      <td>03/04/2010</td>\n",
       "      <td>$30.1014</td>\n",
       "      <td>89591907</td>\n",
       "      <td>$29.8971</td>\n",
       "      <td>$30.1314</td>\n",
       "      <td>$29.8043</td>\n",
       "    </tr>\n",
       "    <tr>\n",
       "      <th>4</th>\n",
       "      <td>2513</td>\n",
       "      <td>03/05/2010</td>\n",
       "      <td>$31.2786</td>\n",
       "      <td>224647427</td>\n",
       "      <td>$30.7057</td>\n",
       "      <td>$31.3857</td>\n",
       "      <td>$30.6614</td>\n",
       "    </tr>\n",
       "    <tr>\n",
       "      <th>...</th>\n",
       "      <td>...</td>\n",
       "      <td>...</td>\n",
       "      <td>...</td>\n",
       "      <td>...</td>\n",
       "      <td>...</td>\n",
       "      <td>...</td>\n",
       "      <td>...</td>\n",
       "    </tr>\n",
       "    <tr>\n",
       "      <th>2513</th>\n",
       "      <td>4</td>\n",
       "      <td>02/24/2020</td>\n",
       "      <td>$298.18</td>\n",
       "      <td>55548830</td>\n",
       "      <td>$297.26</td>\n",
       "      <td>$304.18</td>\n",
       "      <td>$289.23</td>\n",
       "    </tr>\n",
       "    <tr>\n",
       "      <th>2514</th>\n",
       "      <td>3</td>\n",
       "      <td>02/25/2020</td>\n",
       "      <td>$288.08</td>\n",
       "      <td>57668360</td>\n",
       "      <td>$300.95</td>\n",
       "      <td>$302.53</td>\n",
       "      <td>$286.13</td>\n",
       "    </tr>\n",
       "    <tr>\n",
       "      <th>2515</th>\n",
       "      <td>2</td>\n",
       "      <td>02/26/2020</td>\n",
       "      <td>$292.65</td>\n",
       "      <td>49678430</td>\n",
       "      <td>$286.53</td>\n",
       "      <td>$297.88</td>\n",
       "      <td>$286.5</td>\n",
       "    </tr>\n",
       "    <tr>\n",
       "      <th>2516</th>\n",
       "      <td>1</td>\n",
       "      <td>02/27/2020</td>\n",
       "      <td>$273.52</td>\n",
       "      <td>80151380</td>\n",
       "      <td>$281.1</td>\n",
       "      <td>$286</td>\n",
       "      <td>$272.96</td>\n",
       "    </tr>\n",
       "    <tr>\n",
       "      <th>2517</th>\n",
       "      <td>0</td>\n",
       "      <td>02/28/2020</td>\n",
       "      <td>$273.36</td>\n",
       "      <td>106721200</td>\n",
       "      <td>$257.26</td>\n",
       "      <td>$278.41</td>\n",
       "      <td>$256.37</td>\n",
       "    </tr>\n",
       "  </tbody>\n",
       "</table>\n",
       "<p>2518 rows × 7 columns</p>\n",
       "</div>"
      ],
      "text/plain": [
       "      index        Date  Close/Last     Volume       Open       High  \\\n",
       "0      2517  03/01/2010    $29.8557  137312041   $29.3928   $29.9286   \n",
       "1      2516  03/02/2010    $29.8357  141486282     $29.99   $30.1186   \n",
       "2      2515  03/03/2010    $29.9043   92846488   $29.8486   $29.9814   \n",
       "3      2514  03/04/2010    $30.1014   89591907   $29.8971   $30.1314   \n",
       "4      2513  03/05/2010    $31.2786  224647427   $30.7057   $31.3857   \n",
       "...     ...         ...         ...        ...        ...        ...   \n",
       "2513      4  02/24/2020     $298.18   55548830    $297.26    $304.18   \n",
       "2514      3  02/25/2020     $288.08   57668360    $300.95    $302.53   \n",
       "2515      2  02/26/2020     $292.65   49678430    $286.53    $297.88   \n",
       "2516      1  02/27/2020     $273.52   80151380     $281.1       $286   \n",
       "2517      0  02/28/2020     $273.36  106721200    $257.26    $278.41   \n",
       "\n",
       "            Low  \n",
       "0        $29.35  \n",
       "1      $29.6771  \n",
       "2      $29.7057  \n",
       "3      $29.8043  \n",
       "4      $30.6614  \n",
       "...         ...  \n",
       "2513    $289.23  \n",
       "2514    $286.13  \n",
       "2515     $286.5  \n",
       "2516    $272.96  \n",
       "2517    $256.37  \n",
       "\n",
       "[2518 rows x 7 columns]"
      ]
     },
     "execution_count": 5,
     "metadata": {},
     "output_type": "execute_result"
    }
   ],
   "source": [
    "df = df.reindex(index=df.index[::-1])\n",
    "df = df.reset_index()\n",
    "df"
   ]
  },
  {
   "cell_type": "code",
   "execution_count": 6,
   "id": "318f05dc",
   "metadata": {},
   "outputs": [],
   "source": [
    "df = df.drop('index', 1)"
   ]
  },
  {
   "cell_type": "code",
   "execution_count": 7,
   "id": "216755d2",
   "metadata": {},
   "outputs": [],
   "source": [
    "df.columns = ['date', 'close', 'volume', 'open', 'high','low']"
   ]
  },
  {
   "cell_type": "code",
   "execution_count": 8,
   "id": "41fad13a",
   "metadata": {},
   "outputs": [
    {
     "data": {
      "text/plain": [
       "0       29.8557\n",
       "1       29.8357\n",
       "2       29.9043\n",
       "3       30.1014\n",
       "4       31.2786\n",
       "         ...   \n",
       "2513     298.18\n",
       "2514     288.08\n",
       "2515     292.65\n",
       "2516     273.52\n",
       "2517     273.36\n",
       "Name: close, Length: 2518, dtype: object"
      ]
     },
     "execution_count": 8,
     "metadata": {},
     "output_type": "execute_result"
    }
   ],
   "source": [
    "j=0\n",
    "for i in df['close']:\n",
    "    df['close'][j] = i[2:]\n",
    "    j+=1\n",
    "df['close']"
   ]
  },
  {
   "cell_type": "code",
   "execution_count": 9,
   "id": "9f28816f",
   "metadata": {},
   "outputs": [
    {
     "name": "stdout",
     "output_type": "stream",
     "text": [
      "<class 'pandas.core.frame.DataFrame'>\n",
      "RangeIndex: 2518 entries, 0 to 2517\n",
      "Data columns (total 6 columns):\n",
      " #   Column  Non-Null Count  Dtype  \n",
      "---  ------  --------------  -----  \n",
      " 0   date    2518 non-null   object \n",
      " 1   close   2518 non-null   float64\n",
      " 2   volume  2518 non-null   int64  \n",
      " 3   open    2518 non-null   object \n",
      " 4   high    2518 non-null   object \n",
      " 5   low     2518 non-null   object \n",
      "dtypes: float64(1), int64(1), object(4)\n",
      "memory usage: 118.2+ KB\n"
     ]
    }
   ],
   "source": [
    "df['close'] = pd.to_numeric(df['close'])\n",
    "df.info()"
   ]
  },
  {
   "cell_type": "code",
   "execution_count": 10,
   "id": "b8b76a88",
   "metadata": {},
   "outputs": [
    {
     "data": {
      "image/png": "[encoded data removed]",
      "text/plain": [
       "<Figure size 432x288 with 1 Axes>"
      ]
     },
     "metadata": {},
     "output_type": "display_data"
    }
   ],
   "source": [
    "plt.plot(df['date'], df['close'])\n",
    "plt.ylabel('Close')\n",
    "plt.xlabel('Time')\n",
    "plt.show()"
   ]
  },
  {
   "cell_type": "code",
   "execution_count": 11,
   "id": "5672c73a",
   "metadata": {},
   "outputs": [],
   "source": [
    "close = df['close']"
   ]
  },
  {
   "cell_type": "code",
   "execution_count": 12,
   "id": "0465b72b",
   "metadata": {},
   "outputs": [
    {
     "data": {
      "text/plain": [
       "0        29.8557\n",
       "1        29.8357\n",
       "2        29.9043\n",
       "3        30.1014\n",
       "4        31.2786\n",
       "          ...   \n",
       "2513    298.1800\n",
       "2514    288.0800\n",
       "2515    292.6500\n",
       "2516    273.5200\n",
       "2517    273.3600\n",
       "Name: close, Length: 2518, dtype: float64"
      ]
     },
     "execution_count": 12,
     "metadata": {},
     "output_type": "execute_result"
    }
   ],
   "source": [
    "close"
   ]
  },
  {
   "cell_type": "code",
   "execution_count": 13,
   "id": "92019372",
   "metadata": {},
   "outputs": [
    {
     "data": {
      "text/plain": [
       "array([ 29.8557,  29.8357,  29.9043, ..., 292.65  , 273.52  , 273.36  ])"
      ]
     },
     "execution_count": 13,
     "metadata": {},
     "output_type": "execute_result"
    }
   ],
   "source": [
    "close = np.array(close)\n",
    "close"
   ]
  },
  {
   "cell_type": "code",
   "execution_count": 14,
   "id": "152dd7b7",
   "metadata": {},
   "outputs": [
    {
     "data": {
      "text/plain": [
       "array([[ 29.8557],\n",
       "       [ 29.8357],\n",
       "       [ 29.9043],\n",
       "       ...,\n",
       "       [292.65  ],\n",
       "       [273.52  ],\n",
       "       [273.36  ]])"
      ]
     },
     "execution_count": 14,
     "metadata": {},
     "output_type": "execute_result"
    }
   ],
   "source": [
    "close = close.reshape(-1,1)\n",
    "close"
   ]
  },
  {
   "cell_type": "code",
   "execution_count": 15,
   "id": "53297342",
   "metadata": {},
   "outputs": [],
   "source": [
    "from sklearn.preprocessing import MinMaxScaler\n",
    "scaler = MinMaxScaler(feature_range=(0,1))\n",
    "close=scaler.fit_transform(close)"
   ]
  },
  {
   "cell_type": "code",
   "execution_count": 16,
   "id": "e4590a2d",
   "metadata": {},
   "outputs": [
    {
     "data": {
      "text/plain": [
       "array([[6.72575693e-05],\n",
       "       [0.00000000e+00],\n",
       "       [2.30693463e-04],\n",
       "       ...,\n",
       "       [8.83812549e-01],\n",
       "       [8.19480684e-01],\n",
       "       [8.18942624e-01]])"
      ]
     },
     "execution_count": 16,
     "metadata": {},
     "output_type": "execute_result"
    }
   ],
   "source": [
    "close"
   ]
  },
  {
   "cell_type": "code",
   "execution_count": 17,
   "id": "6b4cdb04",
   "metadata": {},
   "outputs": [],
   "source": [
    "train_s=int(len(close)*0.70)\n",
    "test_s=len(close)-train_s\n",
    "train = close[0:train_s,:]\n",
    "test = close[train_s:len(close),:1]"
   ]
  },
  {
   "cell_type": "code",
   "execution_count": 18,
   "id": "b8636563",
   "metadata": {},
   "outputs": [
    {
     "data": {
      "text/plain": [
       "(1762, 1)"
      ]
     },
     "execution_count": 18,
     "metadata": {},
     "output_type": "execute_result"
    }
   ],
   "source": [
    "train.shape"
   ]
  },
  {
   "cell_type": "code",
   "execution_count": 19,
   "id": "b6e4a281",
   "metadata": {},
   "outputs": [],
   "source": [
    "def create_dataset(data,step):\n",
    "    X=[]\n",
    "    y=[]\n",
    "    for i in range(len(data)-step-1):\n",
    "        a = data[i:(i+step)]\n",
    "        X.append(a)\n",
    "        y.append(data[i+step])\n",
    "    return np.array(X),np.array(y)"
   ]
  },
  {
   "cell_type": "code",
   "execution_count": 20,
   "id": "0842c33d",
   "metadata": {},
   "outputs": [],
   "source": [
    "time_step = 100\n",
    "X_train, y_train = create_dataset(train, time_step)\n",
    "X_test, y_test = create_dataset(test, time_step)"
   ]
  },
  {
   "cell_type": "code",
   "execution_count": 21,
   "id": "6520c515",
   "metadata": {},
   "outputs": [
    {
     "data": {
      "text/plain": [
       "(1661, 100, 1)"
      ]
     },
     "execution_count": 21,
     "metadata": {},
     "output_type": "execute_result"
    }
   ],
   "source": [
    "X_train.shape"
   ]
  },
  {
   "cell_type": "code",
   "execution_count": 22,
   "id": "357c0768",
   "metadata": {},
   "outputs": [],
   "source": [
    "from tensorflow.keras.models import Sequential\n",
    "from tensorflow.keras.layers import Dense\n",
    "from tensorflow.keras.layers import LSTM\n",
    "from tensorflow.keras.layers import GRU\n",
    "from tensorflow.keras.layers import Dropout"
   ]
  },
  {
   "cell_type": "code",
   "execution_count": 23,
   "id": "2c0caea0",
   "metadata": {},
   "outputs": [],
   "source": [
    "model=Sequential()\n",
    "model.add(GRU(50,return_sequences=True,input_shape=(100,1)))\n",
    "model.add(Dropout(0.3))\n",
    "model.add(GRU(50,return_sequences=True))\n",
    "model.add(Dropout(0.3))\n",
    "model.add(GRU(50))\n",
    "model.add(Dropout(0.3))\n",
    "model.add(Dense(1))\n",
    "model.compile(loss='mean_squared_error',optimizer='adam')"
   ]
  },
  {
   "cell_type": "code",
   "execution_count": 24,
   "id": "19a4889b",
   "metadata": {},
   "outputs": [
    {
     "name": "stdout",
     "output_type": "stream",
     "text": [
      "Model: \"sequential\"\n",
      "_________________________________________________________________\n",
      "Layer (type)                 Output Shape              Param #   \n",
      "=================================================================\n",
      "gru (GRU)                    (None, 100, 50)           7950      \n",
      "_________________________________________________________________\n",
      "dropout (Dropout)            (None, 100, 50)           0         \n",
      "_________________________________________________________________\n",
      "gru_1 (GRU)                  (None, 100, 50)           15300     \n",
      "_________________________________________________________________\n",
      "dropout_1 (Dropout)          (None, 100, 50)           0         \n",
      "_________________________________________________________________\n",
      "gru_2 (GRU)                  (None, 50)                15300     \n",
      "_________________________________________________________________\n",
      "dropout_2 (Dropout)          (None, 50)                0         \n",
      "_________________________________________________________________\n",
      "dense (Dense)                (None, 1)                 51        \n",
      "=================================================================\n",
      "Total params: 38,601\n",
      "Trainable params: 38,601\n",
      "Non-trainable params: 0\n",
      "_________________________________________________________________\n"
     ]
    }
   ],
   "source": [
    "model.summary()"
   ]
  },
  {
   "cell_type": "code",
   "execution_count": 25,
   "id": "55269133",
   "metadata": {},
   "outputs": [
    {
     "name": "stdout",
     "output_type": "stream",
     "text": [
      "Epoch 1/100\n",
      "26/26 [==============================] - 20s 76ms/step - loss: 0.0076 - val_loss: 0.0057\n",
      "Epoch 2/100\n",
      "26/26 [==============================] - 1s 33ms/step - loss: 0.0012 - val_loss: 4.5210e-04\n",
      "Epoch 3/100\n",
      "26/26 [==============================] - 1s 28ms/step - loss: 8.1403e-04 - val_loss: 0.0010\n",
      "Epoch 4/100\n",
      "26/26 [==============================] - 1s 28ms/step - loss: 6.4380e-04 - val_loss: 5.3274e-04\n",
      "Epoch 5/100\n",
      "26/26 [==============================] - 1s 27ms/step - loss: 6.4628e-04 - val_loss: 8.8597e-04\n",
      "Epoch 6/100\n",
      "26/26 [==============================] - 1s 26ms/step - loss: 5.9064e-04 - val_loss: 5.0866e-04\n",
      "Epoch 7/100\n",
      "26/26 [==============================] - 1s 26ms/step - loss: 6.0303e-04 - val_loss: 9.4092e-04\n",
      "Epoch 8/100\n",
      "26/26 [==============================] - 1s 26ms/step - loss: 5.6152e-04 - val_loss: 5.4793e-04\n",
      "Epoch 9/100\n",
      "26/26 [==============================] - 1s 27ms/step - loss: 5.1293e-04 - val_loss: 4.3148e-04\n",
      "Epoch 10/100\n",
      "26/26 [==============================] - 1s 30ms/step - loss: 5.3117e-04 - val_loss: 0.0011\n",
      "Epoch 11/100\n",
      "26/26 [==============================] - 1s 26ms/step - loss: 4.8503e-04 - val_loss: 5.0118e-04\n",
      "Epoch 12/100\n",
      "26/26 [==============================] - 1s 26ms/step - loss: 4.5573e-04 - val_loss: 8.4081e-04\n",
      "Epoch 13/100\n",
      "26/26 [==============================] - 1s 27ms/step - loss: 4.7741e-04 - val_loss: 5.0307e-04\n",
      "Epoch 14/100\n",
      "26/26 [==============================] - 1s 27ms/step - loss: 4.6238e-04 - val_loss: 0.0015\n",
      "Epoch 15/100\n",
      "26/26 [==============================] - 1s 26ms/step - loss: 4.5871e-04 - val_loss: 9.1686e-04\n",
      "Epoch 16/100\n",
      "26/26 [==============================] - 1s 26ms/step - loss: 4.1530e-04 - val_loss: 6.6659e-04\n",
      "Epoch 17/100\n",
      "26/26 [==============================] - 1s 26ms/step - loss: 4.2173e-04 - val_loss: 5.2080e-04\n",
      "Epoch 18/100\n",
      "26/26 [==============================] - 1s 26ms/step - loss: 3.8543e-04 - val_loss: 3.9902e-04\n",
      "Epoch 19/100\n",
      "26/26 [==============================] - 1s 27ms/step - loss: 3.8885e-04 - val_loss: 4.8787e-04\n",
      "Epoch 20/100\n",
      "26/26 [==============================] - 1s 26ms/step - loss: 4.1267e-04 - val_loss: 0.0017\n",
      "Epoch 21/100\n",
      "26/26 [==============================] - 1s 27ms/step - loss: 4.0891e-04 - val_loss: 6.2173e-04\n",
      "Epoch 22/100\n",
      "26/26 [==============================] - 1s 26ms/step - loss: 3.7559e-04 - val_loss: 0.0011\n",
      "Epoch 23/100\n",
      "26/26 [==============================] - 1s 28ms/step - loss: 4.0203e-04 - val_loss: 4.1042e-04\n",
      "Epoch 24/100\n",
      "26/26 [==============================] - 1s 27ms/step - loss: 3.7305e-04 - val_loss: 5.2368e-04\n",
      "Epoch 25/100\n",
      "26/26 [==============================] - 1s 34ms/step - loss: 3.3029e-04 - val_loss: 4.2912e-04\n",
      "Epoch 26/100\n",
      "26/26 [==============================] - 1s 27ms/step - loss: 3.1145e-04 - val_loss: 3.7572e-04\n",
      "Epoch 27/100\n",
      "26/26 [==============================] - 1s 26ms/step - loss: 3.2680e-04 - val_loss: 4.3777e-04\n",
      "Epoch 28/100\n",
      "26/26 [==============================] - 1s 25ms/step - loss: 3.2120e-04 - val_loss: 5.1714e-04\n",
      "Epoch 29/100\n",
      "26/26 [==============================] - 1s 27ms/step - loss: 3.1230e-04 - val_loss: 4.1042e-04\n",
      "Epoch 30/100\n",
      "26/26 [==============================] - 1s 31ms/step - loss: 3.2201e-04 - val_loss: 4.1380e-04\n",
      "Epoch 31/100\n",
      "26/26 [==============================] - 1s 28ms/step - loss: 3.1363e-04 - val_loss: 4.3571e-04\n",
      "Epoch 32/100\n",
      "26/26 [==============================] - 1s 30ms/step - loss: 3.2101e-04 - val_loss: 3.6941e-04TA: 0s - loss: 3.1597e-\n",
      "Epoch 33/100\n",
      "26/26 [==============================] - 1s 30ms/step - loss: 3.1875e-04 - val_loss: 0.0012\n",
      "Epoch 34/100\n",
      "26/26 [==============================] - 1s 29ms/step - loss: 2.9767e-04 - val_loss: 6.2217e-04\n",
      "Epoch 35/100\n",
      "26/26 [==============================] - 1s 29ms/step - loss: 2.7039e-04 - val_loss: 0.0011\n",
      "Epoch 36/100\n",
      "26/26 [==============================] - 1s 27ms/step - loss: 2.7560e-04 - val_loss: 4.2886e-04\n",
      "Epoch 37/100\n",
      "26/26 [==============================] - 1s 30ms/step - loss: 2.5707e-04 - val_loss: 0.0011\n",
      "Epoch 38/100\n",
      "26/26 [==============================] - 1s 29ms/step - loss: 2.6256e-04 - val_loss: 4.0607e-04\n",
      "Epoch 39/100\n",
      "26/26 [==============================] - 1s 26ms/step - loss: 2.5138e-04 - val_loss: 5.7694e-04\n",
      "Epoch 40/100\n",
      "26/26 [==============================] - 1s 25ms/step - loss: 2.6408e-04 - val_loss: 3.4907e-04\n",
      "Epoch 41/100\n",
      "26/26 [==============================] - 1s 27ms/step - loss: 2.9186e-04 - val_loss: 6.0525e-04\n",
      "Epoch 42/100\n",
      "26/26 [==============================] - 1s 32ms/step - loss: 2.8584e-04 - val_loss: 0.0010\n",
      "Epoch 43/100\n",
      "26/26 [==============================] - 1s 27ms/step - loss: 2.3483e-04 - val_loss: 6.4902e-04\n",
      "Epoch 44/100\n",
      "26/26 [==============================] - 1s 30ms/step - loss: 2.3599e-04 - val_loss: 3.9591e-04\n",
      "Epoch 45/100\n",
      "26/26 [==============================] - 1s 28ms/step - loss: 2.3673e-04 - val_loss: 3.0469e-04\n",
      "Epoch 46/100\n",
      "26/26 [==============================] - 1s 29ms/step - loss: 2.2942e-04 - val_loss: 8.7767e-04\n",
      "Epoch 47/100\n",
      "26/26 [==============================] - 1s 28ms/step - loss: 2.3912e-04 - val_loss: 9.9328e-04\n",
      "Epoch 48/100\n",
      "26/26 [==============================] - 1s 33ms/step - loss: 2.2584e-04 - val_loss: 3.5649e-04\n",
      "Epoch 49/100\n",
      "26/26 [==============================] - 1s 26ms/step - loss: 2.2662e-04 - val_loss: 3.0622e-04\n",
      "Epoch 50/100\n",
      "26/26 [==============================] - 1s 33ms/step - loss: 2.0217e-04 - val_loss: 0.0011\n",
      "Epoch 51/100\n",
      "26/26 [==============================] - 1s 27ms/step - loss: 2.1091e-04 - val_loss: 7.7026e-04\n",
      "Epoch 52/100\n",
      "26/26 [==============================] - 1s 27ms/step - loss: 2.0188e-04 - val_loss: 5.6221e-04\n",
      "Epoch 53/100\n",
      "26/26 [==============================] - 1s 29ms/step - loss: 2.0312e-04 - val_loss: 2.9881e-04\n",
      "Epoch 54/100\n",
      "26/26 [==============================] - 1s 30ms/step - loss: 2.0367e-04 - val_loss: 4.2642e-04\n",
      "Epoch 55/100\n",
      "26/26 [==============================] - 1s 27ms/step - loss: 2.0254e-04 - val_loss: 4.8360e-04\n",
      "Epoch 56/100\n",
      "26/26 [==============================] - 1s 27ms/step - loss: 1.9251e-04 - val_loss: 5.7591e-04\n",
      "Epoch 57/100\n",
      "26/26 [==============================] - 1s 27ms/step - loss: 2.0501e-04 - val_loss: 3.0647e-04\n",
      "Epoch 58/100\n",
      "26/26 [==============================] - 1s 28ms/step - loss: 1.9371e-04 - val_loss: 7.2857e-04\n",
      "Epoch 59/100\n",
      "26/26 [==============================] - 1s 28ms/step - loss: 1.8969e-04 - val_loss: 2.9565e-04\n",
      "Epoch 60/100\n",
      "26/26 [==============================] - 1s 27ms/step - loss: 1.8910e-04 - val_loss: 9.1968e-04\n",
      "Epoch 61/100\n",
      "26/26 [==============================] - 1s 29ms/step - loss: 1.9087e-04 - val_loss: 4.8705e-04\n",
      "Epoch 62/100\n",
      "26/26 [==============================] - 1s 32ms/step - loss: 1.8354e-04 - val_loss: 5.0139e-04\n",
      "Epoch 63/100\n",
      "26/26 [==============================] - 1s 27ms/step - loss: 1.8804e-04 - val_loss: 4.3345e-04\n",
      "Epoch 64/100\n",
      "26/26 [==============================] - 1s 26ms/step - loss: 1.9402e-04 - val_loss: 3.1959e-04\n",
      "Epoch 65/100\n",
      "26/26 [==============================] - 1s 27ms/step - loss: 1.8670e-04 - val_loss: 5.6000e-04\n",
      "Epoch 66/100\n",
      "26/26 [==============================] - 1s 26ms/step - loss: 1.7872e-04 - val_loss: 4.6381e-04\n",
      "Epoch 67/100\n",
      "26/26 [==============================] - 1s 26ms/step - loss: 1.9480e-04 - val_loss: 3.2595e-04\n",
      "Epoch 68/100\n",
      "26/26 [==============================] - 1s 26ms/step - loss: 1.9601e-04 - val_loss: 0.0011\n",
      "Epoch 69/100\n",
      "26/26 [==============================] - 1s 26ms/step - loss: 1.7209e-04 - val_loss: 2.7013e-04\n",
      "Epoch 70/100\n",
      "26/26 [==============================] - 1s 26ms/step - loss: 1.8951e-04 - val_loss: 5.2382e-04\n",
      "Epoch 71/100\n",
      "26/26 [==============================] - 1s 26ms/step - loss: 1.9578e-04 - val_loss: 2.8228e-04\n",
      "Epoch 72/100\n",
      "26/26 [==============================] - 1s 26ms/step - loss: 2.1211e-04 - val_loss: 2.5813e-04\n",
      "Epoch 73/100\n",
      "26/26 [==============================] - 1s 28ms/step - loss: 1.6511e-04 - val_loss: 9.0396e-04\n",
      "Epoch 74/100\n",
      "26/26 [==============================] - 1s 25ms/step - loss: 1.7449e-04 - val_loss: 3.1424e-04\n",
      "Epoch 75/100\n",
      "26/26 [==============================] - 1s 26ms/step - loss: 1.5460e-04 - val_loss: 7.0599e-04\n",
      "Epoch 76/100\n"
     ]
    },
    {
     "name": "stdout",
     "output_type": "stream",
     "text": [
      "26/26 [==============================] - 1s 26ms/step - loss: 1.8561e-04 - val_loss: 6.6627e-04\n",
      "Epoch 77/100\n",
      "26/26 [==============================] - 1s 26ms/step - loss: 1.5579e-04 - val_loss: 2.5715e-04\n",
      "Epoch 78/100\n",
      "26/26 [==============================] - 1s 26ms/step - loss: 1.7898e-04 - val_loss: 2.6798e-04\n",
      "Epoch 79/100\n",
      "26/26 [==============================] - 1s 25ms/step - loss: 1.6263e-04 - val_loss: 8.0752e-04\n",
      "Epoch 80/100\n",
      "26/26 [==============================] - 1s 26ms/step - loss: 1.5646e-04 - val_loss: 6.3570e-04\n",
      "Epoch 81/100\n",
      "26/26 [==============================] - 1s 26ms/step - loss: 1.7047e-04 - val_loss: 3.0609e-04\n",
      "Epoch 82/100\n",
      "26/26 [==============================] - 1s 29ms/step - loss: 1.6302e-04 - val_loss: 3.8400e-04\n",
      "Epoch 83/100\n",
      "26/26 [==============================] - 1s 30ms/step - loss: 1.5699e-04 - val_loss: 4.1502e-04\n",
      "Epoch 84/100\n",
      "26/26 [==============================] - 1s 35ms/step - loss: 1.7528e-04 - val_loss: 4.2771e-04\n",
      "Epoch 85/100\n",
      "26/26 [==============================] - 1s 29ms/step - loss: 1.5413e-04 - val_loss: 3.4287e-04\n",
      "Epoch 86/100\n",
      "26/26 [==============================] - 1s 27ms/step - loss: 1.6195e-04 - val_loss: 3.5899e-04\n",
      "Epoch 87/100\n",
      "26/26 [==============================] - 1s 29ms/step - loss: 1.5909e-04 - val_loss: 0.0011\n",
      "Epoch 88/100\n",
      "26/26 [==============================] - 1s 26ms/step - loss: 1.6614e-04 - val_loss: 6.2849e-04\n",
      "Epoch 89/100\n",
      "26/26 [==============================] - 1s 27ms/step - loss: 1.6527e-04 - val_loss: 0.0012\n",
      "Epoch 90/100\n",
      "26/26 [==============================] - 1s 26ms/step - loss: 1.6183e-04 - val_loss: 5.3062e-04\n",
      "Epoch 91/100\n",
      "26/26 [==============================] - 1s 33ms/step - loss: 1.5315e-04 - val_loss: 2.7852e-04\n",
      "Epoch 92/100\n",
      "26/26 [==============================] - 1s 27ms/step - loss: 1.7583e-04 - val_loss: 2.6543e-04\n",
      "Epoch 93/100\n",
      "26/26 [==============================] - 1s 33ms/step - loss: 1.7919e-04 - val_loss: 2.4369e-04\n",
      "Epoch 94/100\n",
      "26/26 [==============================] - 1s 28ms/step - loss: 1.7725e-04 - val_loss: 3.0606e-04\n",
      "Epoch 95/100\n",
      "26/26 [==============================] - 1s 33ms/step - loss: 1.4704e-04 - val_loss: 3.3762e-04\n",
      "Epoch 96/100\n",
      "26/26 [==============================] - 1s 31ms/step - loss: 1.4387e-04 - val_loss: 2.3284e-04\n",
      "Epoch 97/100\n",
      "26/26 [==============================] - 1s 26ms/step - loss: 1.5359e-04 - val_loss: 4.0697e-04\n",
      "Epoch 98/100\n",
      "26/26 [==============================] - 1s 26ms/step - loss: 1.4922e-04 - val_loss: 2.7363e-04\n",
      "Epoch 99/100\n",
      "26/26 [==============================] - 1s 26ms/step - loss: 1.4910e-04 - val_loss: 2.9183e-04\n",
      "Epoch 100/100\n",
      "26/26 [==============================] - 1s 26ms/step - loss: 1.5158e-04 - val_loss: 3.1707e-04\n"
     ]
    }
   ],
   "source": [
    "history = model.fit(X_train,y_train,validation_data=(X_test,y_test),epochs=100,batch_size=64,verbose=1)"
   ]
  },
  {
   "cell_type": "code",
   "execution_count": 26,
   "id": "2d0741bf",
   "metadata": {},
   "outputs": [
    {
     "name": "stdout",
     "output_type": "stream",
     "text": [
      "dict_keys(['loss', 'val_loss'])\n"
     ]
    }
   ],
   "source": [
    "print(history.history.keys())"
   ]
  },
  {
   "cell_type": "code",
   "execution_count": 27,
   "id": "9d57dc81",
   "metadata": {},
   "outputs": [
    {
     "data": {
      "image/png": "[encoded data removed]",
      "text/plain": [
       "<Figure size 432x288 with 1 Axes>"
      ]
     },
     "metadata": {},
     "output_type": "display_data"
    }
   ],
   "source": [
    "plt.plot(history.history['loss'])\n",
    "plt.plot(history.history['val_loss'])\n",
    "plt.show()"
   ]
  },
  {
   "cell_type": "code",
   "execution_count": 28,
   "id": "a66273d6",
   "metadata": {},
   "outputs": [],
   "source": [
    "train_predict=model.predict(X_train)\n",
    "test_predict=model.predict(X_test)"
   ]
  },
  {
   "cell_type": "code",
   "execution_count": 29,
   "id": "4ca3abdc",
   "metadata": {},
   "outputs": [
    {
     "data": {
      "text/plain": [
       "0.01780659560845535"
      ]
     },
     "execution_count": 29,
     "metadata": {},
     "output_type": "execute_result"
    }
   ],
   "source": [
    "import math\n",
    "from sklearn.metrics import mean_squared_error\n",
    "math.sqrt(mean_squared_error(y_test,test_predict))"
   ]
  },
  {
   "cell_type": "code",
   "execution_count": 30,
   "id": "11db7bd0",
   "metadata": {},
   "outputs": [
    {
     "name": "stderr",
     "output_type": "stream",
     "text": [
      "WARNING:absl:Found untraced functions such as gru_cell_layer_call_fn, gru_cell_layer_call_and_return_conditional_losses, gru_cell_1_layer_call_fn, gru_cell_1_layer_call_and_return_conditional_losses, gru_cell_2_layer_call_fn while saving (showing 5 of 15). These functions will not be directly callable after loading.\n"
     ]
    },
    {
     "name": "stdout",
     "output_type": "stream",
     "text": [
      "INFO:tensorflow:Assets written to: saved_model/grumodeldrop\\assets\n"
     ]
    },
    {
     "name": "stderr",
     "output_type": "stream",
     "text": [
      "INFO:tensorflow:Assets written to: saved_model/grumodeldrop\\assets\n"
     ]
    }
   ],
   "source": [
    "model.save('saved_model/grumodeldrop')"
   ]
  },
  {
   "cell_type": "code",
   "execution_count": null,
   "id": "f91124a2",
   "metadata": {},
   "outputs": [],
   "source": []
  },
  {
   "cell_type": "code",
   "execution_count": 31,
   "id": "37156984",
   "metadata": {},
   "outputs": [],
   "source": [
    "train_predict=scaler.inverse_transform(train_predict)\n",
    "test_predict=scaler.inverse_transform(test_predict)"
   ]
  },
  {
   "cell_type": "code",
   "execution_count": 32,
   "id": "5d12b629",
   "metadata": {},
   "outputs": [
    {
     "data": {
      "image/png": "[encoded data removed]",
      "text/plain": [
       "<Figure size 432x288 with 1 Axes>"
      ]
     },
     "metadata": {},
     "output_type": "display_data"
    }
   ],
   "source": [
    "look_back=100\n",
    "trainPredictPlot = np.empty_like(close)\n",
    "trainPredictPlot[:, :] = np.nan\n",
    "trainPredictPlot[look_back:len(train_predict)+look_back, :] = train_predict\n",
    "# shift test predictions for plotting\n",
    "testPredictPlot = np.empty_like(close)\n",
    "testPredictPlot[:, :] = np.nan\n",
    "testPredictPlot[len(train_predict)+(look_back*2)+1:len(close)-1, :] = test_predict\n",
    "# plot baseline and predictions\n",
    "plt.plot(scaler.inverse_transform(close))\n",
    "plt.plot(trainPredictPlot)\n",
    "plt.plot(testPredictPlot)\n",
    "plt.show()"
   ]
  },
  {
   "cell_type": "code",
   "execution_count": 33,
   "id": "edbb02b4",
   "metadata": {},
   "outputs": [],
   "source": [
    "X_plot_full = close[-200:]"
   ]
  },
  {
   "cell_type": "code",
   "execution_count": 34,
   "id": "bc481fb3",
   "metadata": {},
   "outputs": [
    {
     "data": {
      "image/png": "[encoded data removed]",
      "text/plain": [
       "<Figure size 432x288 with 1 Axes>"
      ]
     },
     "metadata": {},
     "output_type": "display_data"
    }
   ],
   "source": [
    "plt.plot(X_plot_full)\n",
    "plt.show()"
   ]
  },
  {
   "cell_type": "code",
   "execution_count": 35,
   "id": "579dd612",
   "metadata": {},
   "outputs": [
    {
     "data": {
      "text/plain": [
       "(200, 1)"
      ]
     },
     "execution_count": 35,
     "metadata": {},
     "output_type": "execute_result"
    }
   ],
   "source": [
    "X_plot_full.shape"
   ]
  },
  {
   "cell_type": "code",
   "execution_count": 36,
   "id": "d9864c32",
   "metadata": {},
   "outputs": [
    {
     "data": {
      "text/plain": [
       "(1, 100)"
      ]
     },
     "execution_count": 36,
     "metadata": {},
     "output_type": "execute_result"
    }
   ],
   "source": [
    "x_input = X_plot_full[-100:].reshape((1,100))\n",
    "x_input.shape"
   ]
  },
  {
   "cell_type": "code",
   "execution_count": 37,
   "id": "e464dde0",
   "metadata": {},
   "outputs": [],
   "source": [
    "temp_input=list(x_input)\n",
    "temp_input=temp_input[0].tolist()"
   ]
  },
  {
   "cell_type": "code",
   "execution_count": 38,
   "id": "1d15dc30",
   "metadata": {},
   "outputs": [
    {
     "data": {
      "text/plain": [
       "[0.6632413507606663,\n",
       " 0.6542960940502945,\n",
       " 0.6631404644067899,\n",
       " 0.6734308725021799,\n",
       " 0.6940116886929601,\n",
       " 0.6928683100156945,\n",
       " 0.6910187268612943,\n",
       " 0.6878239923218759,\n",
       " 0.6908842117227925,\n",
       " 0.6946842643854693,\n",
       " 0.7084720660819068,\n",
       " 0.7066224829275067,\n",
       " 0.7174509515769041,\n",
       " 0.7187961029619224,\n",
       " 0.7288847383495598,\n",
       " 0.7371910481520478,\n",
       " 0.7178208682077841,\n",
       " 0.7177199818539077,\n",
       " 0.7362158133979095,\n",
       " 0.7599577353434827,\n",
       " 0.7656073711605595,\n",
       " 0.7643631061294176,\n",
       " 0.7647330227602978,\n",
       " 0.7720977265932729,\n",
       " 0.7744853703016804,\n",
       " 0.7814128999345247,\n",
       " 0.7806058091035136,\n",
       " 0.7890466340445037,\n",
       " 0.7828925664580448,\n",
       " 0.7933847472611876,\n",
       " 0.797891004400999,\n",
       " 0.795167072846337,\n",
       " 0.784742149612445,\n",
       " 0.780773953026641,\n",
       " 0.7800004909802554,\n",
       " 0.7954361031233406,\n",
       " 0.7884413159212454,\n",
       " 0.8003795344632828,\n",
       " 0.7983954361703809,\n",
       " 0.7880041417211145,\n",
       " 0.7721649841625238,\n",
       " 0.7798659758417537,\n",
       " 0.7927794291379293,\n",
       " 0.8100309956507892,\n",
       " 0.7972856862777408,\n",
       " 0.8025317766793122,\n",
       " 0.810232768358542,\n",
       " 0.8125531544976985,\n",
       " 0.8249621760244924,\n",
       " 0.8408013335830831,\n",
       " 0.8426509167374833,\n",
       " 0.8403977881675776,\n",
       " 0.8413393941370904,\n",
       " 0.8393889246288139,\n",
       " 0.8547236504180226,\n",
       " 0.8556316276029099,\n",
       " 0.8745982621316681,\n",
       " 0.8742283455007881,\n",
       " 0.8800124964563667,\n",
       " 0.8871754275815892,\n",
       " 0.9097067132806459,\n",
       " 0.8998871081700123,\n",
       " 0.9078571301262458,\n",
       " 0.9031154714940562,\n",
       " 0.9192572881142759,\n",
       " 0.9409142254130708,\n",
       " 0.9432682403368527,\n",
       " 0.9655641245435312,\n",
       " 0.9511710047238354,\n",
       " 0.9466647475840239,\n",
       " 0.9597799735879525,\n",
       " 0.9715164194222373,\n",
       " 0.9642526019431384,\n",
       " 0.9680526546058151,\n",
       " 0.9731978586535103,\n",
       " 0.970104010467968,\n",
       " 0.9386274680585395,\n",
       " 0.9680190258211897,\n",
       " 0.9903821675971188,\n",
       " 0.9888016147197226,\n",
       " 0.9405106799975652,\n",
       " 0.9376522333044014,\n",
       " 0.9719199648377429,\n",
       " 0.9806634488403617,\n",
       " 0.9933078718595337,\n",
       " 0.9758881614235467,\n",
       " 0.9809997366866164,\n",
       " 0.9744757524692776,\n",
       " 0.9999999999999999,\n",
       " 0.9921644931822683,\n",
       " 0.9924335234592719,\n",
       " 0.9724243966071245,\n",
       " 0.987960895104086,\n",
       " 0.9767961386084342,\n",
       " 0.9524152697549774,\n",
       " 0.9024092670169216,\n",
       " 0.8684441945452093,\n",
       " 0.8838125491190434,\n",
       " 0.8194806841305428,\n",
       " 0.8189426235765356]"
      ]
     },
     "execution_count": 38,
     "metadata": {},
     "output_type": "execute_result"
    }
   ],
   "source": [
    "temp_input"
   ]
  },
  {
   "cell_type": "code",
   "execution_count": 39,
   "id": "5fe59efb",
   "metadata": {},
   "outputs": [
    {
     "name": "stdout",
     "output_type": "stream",
     "text": [
      "[0.870373]\n",
      "101\n",
      "1 day input [0.65429609 0.66314046 0.67343087 0.69401169 0.69286831 0.69101873\n",
      " 0.68782399 0.69088421 0.69468426 0.70847207 0.70662248 0.71745095\n",
      " 0.7187961  0.72888474 0.73719105 0.71782087 0.71771998 0.73621581\n",
      " 0.75995774 0.76560737 0.76436311 0.76473302 0.77209773 0.77448537\n",
      " 0.7814129  0.78060581 0.78904663 0.78289257 0.79338475 0.797891\n",
      " 0.79516707 0.78474215 0.78077395 0.78000049 0.7954361  0.78844132\n",
      " 0.80037953 0.79839544 0.78800414 0.77216498 0.77986598 0.79277943\n",
      " 0.810031   0.79728569 0.80253178 0.81023277 0.81255315 0.82496218\n",
      " 0.84080133 0.84265092 0.84039779 0.84133939 0.83938892 0.85472365\n",
      " 0.85563163 0.87459826 0.87422835 0.8800125  0.88717543 0.90970671\n",
      " 0.89988711 0.90785713 0.90311547 0.91925729 0.94091423 0.94326824\n",
      " 0.96556412 0.951171   0.94666475 0.95977997 0.97151642 0.9642526\n",
      " 0.96805265 0.97319786 0.97010401 0.93862747 0.96801903 0.99038217\n",
      " 0.98880161 0.94051068 0.93765223 0.97191996 0.98066345 0.99330787\n",
      " 0.97588816 0.98099974 0.97447575 1.         0.99216449 0.99243352\n",
      " 0.9724244  0.9879609  0.97679614 0.95241527 0.90240927 0.86844419\n",
      " 0.88381255 0.81948068 0.81894262 0.87037301]\n",
      "1 day output [[0.8772214]]\n",
      "2 day input [0.66314046 0.67343087 0.69401169 0.69286831 0.69101873 0.68782399\n",
      " 0.69088421 0.69468426 0.70847207 0.70662248 0.71745095 0.7187961\n",
      " 0.72888474 0.73719105 0.71782087 0.71771998 0.73621581 0.75995774\n",
      " 0.76560737 0.76436311 0.76473302 0.77209773 0.77448537 0.7814129\n",
      " 0.78060581 0.78904663 0.78289257 0.79338475 0.797891   0.79516707\n",
      " 0.78474215 0.78077395 0.78000049 0.7954361  0.78844132 0.80037953\n",
      " 0.79839544 0.78800414 0.77216498 0.77986598 0.79277943 0.810031\n",
      " 0.79728569 0.80253178 0.81023277 0.81255315 0.82496218 0.84080133\n",
      " 0.84265092 0.84039779 0.84133939 0.83938892 0.85472365 0.85563163\n",
      " 0.87459826 0.87422835 0.8800125  0.88717543 0.90970671 0.89988711\n",
      " 0.90785713 0.90311547 0.91925729 0.94091423 0.94326824 0.96556412\n",
      " 0.951171   0.94666475 0.95977997 0.97151642 0.9642526  0.96805265\n",
      " 0.97319786 0.97010401 0.93862747 0.96801903 0.99038217 0.98880161\n",
      " 0.94051068 0.93765223 0.97191996 0.98066345 0.99330787 0.97588816\n",
      " 0.98099974 0.97447575 1.         0.99216449 0.99243352 0.9724244\n",
      " 0.9879609  0.97679614 0.95241527 0.90240927 0.86844419 0.88381255\n",
      " 0.81948068 0.81894262 0.87037301 0.87722141]\n",
      "2 day output [[0.8845869]]\n",
      "3 day input [0.67343087 0.69401169 0.69286831 0.69101873 0.68782399 0.69088421\n",
      " 0.69468426 0.70847207 0.70662248 0.71745095 0.7187961  0.72888474\n",
      " 0.73719105 0.71782087 0.71771998 0.73621581 0.75995774 0.76560737\n",
      " 0.76436311 0.76473302 0.77209773 0.77448537 0.7814129  0.78060581\n",
      " 0.78904663 0.78289257 0.79338475 0.797891   0.79516707 0.78474215\n",
      " 0.78077395 0.78000049 0.7954361  0.78844132 0.80037953 0.79839544\n",
      " 0.78800414 0.77216498 0.77986598 0.79277943 0.810031   0.79728569\n",
      " 0.80253178 0.81023277 0.81255315 0.82496218 0.84080133 0.84265092\n",
      " 0.84039779 0.84133939 0.83938892 0.85472365 0.85563163 0.87459826\n",
      " 0.87422835 0.8800125  0.88717543 0.90970671 0.89988711 0.90785713\n",
      " 0.90311547 0.91925729 0.94091423 0.94326824 0.96556412 0.951171\n",
      " 0.94666475 0.95977997 0.97151642 0.9642526  0.96805265 0.97319786\n",
      " 0.97010401 0.93862747 0.96801903 0.99038217 0.98880161 0.94051068\n",
      " 0.93765223 0.97191996 0.98066345 0.99330787 0.97588816 0.98099974\n",
      " 0.97447575 1.         0.99216449 0.99243352 0.9724244  0.9879609\n",
      " 0.97679614 0.95241527 0.90240927 0.86844419 0.88381255 0.81948068\n",
      " 0.81894262 0.87037301 0.87722141 0.88458687]\n",
      "3 day output [[0.8902712]]\n",
      "4 day input [0.69401169 0.69286831 0.69101873 0.68782399 0.69088421 0.69468426\n",
      " 0.70847207 0.70662248 0.71745095 0.7187961  0.72888474 0.73719105\n",
      " 0.71782087 0.71771998 0.73621581 0.75995774 0.76560737 0.76436311\n",
      " 0.76473302 0.77209773 0.77448537 0.7814129  0.78060581 0.78904663\n",
      " 0.78289257 0.79338475 0.797891   0.79516707 0.78474215 0.78077395\n",
      " 0.78000049 0.7954361  0.78844132 0.80037953 0.79839544 0.78800414\n",
      " 0.77216498 0.77986598 0.79277943 0.810031   0.79728569 0.80253178\n",
      " 0.81023277 0.81255315 0.82496218 0.84080133 0.84265092 0.84039779\n",
      " 0.84133939 0.83938892 0.85472365 0.85563163 0.87459826 0.87422835\n",
      " 0.8800125  0.88717543 0.90970671 0.89988711 0.90785713 0.90311547\n",
      " 0.91925729 0.94091423 0.94326824 0.96556412 0.951171   0.94666475\n",
      " 0.95977997 0.97151642 0.9642526  0.96805265 0.97319786 0.97010401\n",
      " 0.93862747 0.96801903 0.99038217 0.98880161 0.94051068 0.93765223\n",
      " 0.97191996 0.98066345 0.99330787 0.97588816 0.98099974 0.97447575\n",
      " 1.         0.99216449 0.99243352 0.9724244  0.9879609  0.97679614\n",
      " 0.95241527 0.90240927 0.86844419 0.88381255 0.81948068 0.81894262\n",
      " 0.87037301 0.87722141 0.88458687 0.89027119]\n",
      "4 day output [[0.89526194]]\n",
      "5 day input [0.69286831 0.69101873 0.68782399 0.69088421 0.69468426 0.70847207\n",
      " 0.70662248 0.71745095 0.7187961  0.72888474 0.73719105 0.71782087\n",
      " 0.71771998 0.73621581 0.75995774 0.76560737 0.76436311 0.76473302\n",
      " 0.77209773 0.77448537 0.7814129  0.78060581 0.78904663 0.78289257\n",
      " 0.79338475 0.797891   0.79516707 0.78474215 0.78077395 0.78000049\n",
      " 0.7954361  0.78844132 0.80037953 0.79839544 0.78800414 0.77216498\n",
      " 0.77986598 0.79277943 0.810031   0.79728569 0.80253178 0.81023277\n",
      " 0.81255315 0.82496218 0.84080133 0.84265092 0.84039779 0.84133939\n",
      " 0.83938892 0.85472365 0.85563163 0.87459826 0.87422835 0.8800125\n",
      " 0.88717543 0.90970671 0.89988711 0.90785713 0.90311547 0.91925729\n",
      " 0.94091423 0.94326824 0.96556412 0.951171   0.94666475 0.95977997\n",
      " 0.97151642 0.9642526  0.96805265 0.97319786 0.97010401 0.93862747\n",
      " 0.96801903 0.99038217 0.98880161 0.94051068 0.93765223 0.97191996\n",
      " 0.98066345 0.99330787 0.97588816 0.98099974 0.97447575 1.\n",
      " 0.99216449 0.99243352 0.9724244  0.9879609  0.97679614 0.95241527\n",
      " 0.90240927 0.86844419 0.88381255 0.81948068 0.81894262 0.87037301\n",
      " 0.87722141 0.88458687 0.89027119 0.89526194]\n",
      "5 day output [[0.9000284]]\n",
      "6 day input [0.69101873 0.68782399 0.69088421 0.69468426 0.70847207 0.70662248\n",
      " 0.71745095 0.7187961  0.72888474 0.73719105 0.71782087 0.71771998\n",
      " 0.73621581 0.75995774 0.76560737 0.76436311 0.76473302 0.77209773\n",
      " 0.77448537 0.7814129  0.78060581 0.78904663 0.78289257 0.79338475\n",
      " 0.797891   0.79516707 0.78474215 0.78077395 0.78000049 0.7954361\n",
      " 0.78844132 0.80037953 0.79839544 0.78800414 0.77216498 0.77986598\n",
      " 0.79277943 0.810031   0.79728569 0.80253178 0.81023277 0.81255315\n",
      " 0.82496218 0.84080133 0.84265092 0.84039779 0.84133939 0.83938892\n",
      " 0.85472365 0.85563163 0.87459826 0.87422835 0.8800125  0.88717543\n",
      " 0.90970671 0.89988711 0.90785713 0.90311547 0.91925729 0.94091423\n",
      " 0.94326824 0.96556412 0.951171   0.94666475 0.95977997 0.97151642\n",
      " 0.9642526  0.96805265 0.97319786 0.97010401 0.93862747 0.96801903\n",
      " 0.99038217 0.98880161 0.94051068 0.93765223 0.97191996 0.98066345\n",
      " 0.99330787 0.97588816 0.98099974 0.97447575 1.         0.99216449\n",
      " 0.99243352 0.9724244  0.9879609  0.97679614 0.95241527 0.90240927\n",
      " 0.86844419 0.88381255 0.81948068 0.81894262 0.87037301 0.87722141\n",
      " 0.88458687 0.89027119 0.89526194 0.90002841]\n",
      "6 day output [[0.90470666]]\n",
      "7 day input [0.68782399 0.69088421 0.69468426 0.70847207 0.70662248 0.71745095\n",
      " 0.7187961  0.72888474 0.73719105 0.71782087 0.71771998 0.73621581\n",
      " 0.75995774 0.76560737 0.76436311 0.76473302 0.77209773 0.77448537\n",
      " 0.7814129  0.78060581 0.78904663 0.78289257 0.79338475 0.797891\n",
      " 0.79516707 0.78474215 0.78077395 0.78000049 0.7954361  0.78844132\n",
      " 0.80037953 0.79839544 0.78800414 0.77216498 0.77986598 0.79277943\n",
      " 0.810031   0.79728569 0.80253178 0.81023277 0.81255315 0.82496218\n",
      " 0.84080133 0.84265092 0.84039779 0.84133939 0.83938892 0.85472365\n",
      " 0.85563163 0.87459826 0.87422835 0.8800125  0.88717543 0.90970671\n",
      " 0.89988711 0.90785713 0.90311547 0.91925729 0.94091423 0.94326824\n",
      " 0.96556412 0.951171   0.94666475 0.95977997 0.97151642 0.9642526\n",
      " 0.96805265 0.97319786 0.97010401 0.93862747 0.96801903 0.99038217\n",
      " 0.98880161 0.94051068 0.93765223 0.97191996 0.98066345 0.99330787\n",
      " 0.97588816 0.98099974 0.97447575 1.         0.99216449 0.99243352\n",
      " 0.9724244  0.9879609  0.97679614 0.95241527 0.90240927 0.86844419\n",
      " 0.88381255 0.81948068 0.81894262 0.87037301 0.87722141 0.88458687\n",
      " 0.89027119 0.89526194 0.90002841 0.90470666]\n",
      "7 day output [[0.9093427]]\n",
      "8 day input [0.69088421 0.69468426 0.70847207 0.70662248 0.71745095 0.7187961\n",
      " 0.72888474 0.73719105 0.71782087 0.71771998 0.73621581 0.75995774\n",
      " 0.76560737 0.76436311 0.76473302 0.77209773 0.77448537 0.7814129\n",
      " 0.78060581 0.78904663 0.78289257 0.79338475 0.797891   0.79516707\n",
      " 0.78474215 0.78077395 0.78000049 0.7954361  0.78844132 0.80037953\n",
      " 0.79839544 0.78800414 0.77216498 0.77986598 0.79277943 0.810031\n",
      " 0.79728569 0.80253178 0.81023277 0.81255315 0.82496218 0.84080133\n",
      " 0.84265092 0.84039779 0.84133939 0.83938892 0.85472365 0.85563163\n",
      " 0.87459826 0.87422835 0.8800125  0.88717543 0.90970671 0.89988711\n",
      " 0.90785713 0.90311547 0.91925729 0.94091423 0.94326824 0.96556412\n",
      " 0.951171   0.94666475 0.95977997 0.97151642 0.9642526  0.96805265\n",
      " 0.97319786 0.97010401 0.93862747 0.96801903 0.99038217 0.98880161\n",
      " 0.94051068 0.93765223 0.97191996 0.98066345 0.99330787 0.97588816\n",
      " 0.98099974 0.97447575 1.         0.99216449 0.99243352 0.9724244\n",
      " 0.9879609  0.97679614 0.95241527 0.90240927 0.86844419 0.88381255\n",
      " 0.81948068 0.81894262 0.87037301 0.87722141 0.88458687 0.89027119\n",
      " 0.89526194 0.90002841 0.90470666 0.90934271]\n",
      "8 day output [[0.9139542]]\n",
      "9 day input [0.69468426 0.70847207 0.70662248 0.71745095 0.7187961  0.72888474\n",
      " 0.73719105 0.71782087 0.71771998 0.73621581 0.75995774 0.76560737\n",
      " 0.76436311 0.76473302 0.77209773 0.77448537 0.7814129  0.78060581\n",
      " 0.78904663 0.78289257 0.79338475 0.797891   0.79516707 0.78474215\n",
      " 0.78077395 0.78000049 0.7954361  0.78844132 0.80037953 0.79839544\n",
      " 0.78800414 0.77216498 0.77986598 0.79277943 0.810031   0.79728569\n",
      " 0.80253178 0.81023277 0.81255315 0.82496218 0.84080133 0.84265092\n",
      " 0.84039779 0.84133939 0.83938892 0.85472365 0.85563163 0.87459826\n",
      " 0.87422835 0.8800125  0.88717543 0.90970671 0.89988711 0.90785713\n",
      " 0.90311547 0.91925729 0.94091423 0.94326824 0.96556412 0.951171\n",
      " 0.94666475 0.95977997 0.97151642 0.9642526  0.96805265 0.97319786\n",
      " 0.97010401 0.93862747 0.96801903 0.99038217 0.98880161 0.94051068\n",
      " 0.93765223 0.97191996 0.98066345 0.99330787 0.97588816 0.98099974\n",
      " 0.97447575 1.         0.99216449 0.99243352 0.9724244  0.9879609\n",
      " 0.97679614 0.95241527 0.90240927 0.86844419 0.88381255 0.81948068\n",
      " 0.81894262 0.87037301 0.87722141 0.88458687 0.89027119 0.89526194\n",
      " 0.90002841 0.90470666 0.90934271 0.9139542 ]\n",
      "9 day output [[0.91854733]]\n",
      "10 day input [0.70847207 0.70662248 0.71745095 0.7187961  0.72888474 0.73719105\n",
      " 0.71782087 0.71771998 0.73621581 0.75995774 0.76560737 0.76436311\n",
      " 0.76473302 0.77209773 0.77448537 0.7814129  0.78060581 0.78904663\n",
      " 0.78289257 0.79338475 0.797891   0.79516707 0.78474215 0.78077395\n",
      " 0.78000049 0.7954361  0.78844132 0.80037953 0.79839544 0.78800414\n",
      " 0.77216498 0.77986598 0.79277943 0.810031   0.79728569 0.80253178\n",
      " 0.81023277 0.81255315 0.82496218 0.84080133 0.84265092 0.84039779\n",
      " 0.84133939 0.83938892 0.85472365 0.85563163 0.87459826 0.87422835\n",
      " 0.8800125  0.88717543 0.90970671 0.89988711 0.90785713 0.90311547\n",
      " 0.91925729 0.94091423 0.94326824 0.96556412 0.951171   0.94666475\n",
      " 0.95977997 0.97151642 0.9642526  0.96805265 0.97319786 0.97010401\n",
      " 0.93862747 0.96801903 0.99038217 0.98880161 0.94051068 0.93765223\n",
      " 0.97191996 0.98066345 0.99330787 0.97588816 0.98099974 0.97447575\n",
      " 1.         0.99216449 0.99243352 0.9724244  0.9879609  0.97679614\n",
      " 0.95241527 0.90240927 0.86844419 0.88381255 0.81948068 0.81894262\n",
      " 0.87037301 0.87722141 0.88458687 0.89027119 0.89526194 0.90002841\n",
      " 0.90470666 0.90934271 0.9139542  0.91854733]\n",
      "10 day output [[0.92312366]]\n",
      "11 day input [0.70662248 0.71745095 0.7187961  0.72888474 0.73719105 0.71782087\n",
      " 0.71771998 0.73621581 0.75995774 0.76560737 0.76436311 0.76473302\n",
      " 0.77209773 0.77448537 0.7814129  0.78060581 0.78904663 0.78289257\n",
      " 0.79338475 0.797891   0.79516707 0.78474215 0.78077395 0.78000049\n",
      " 0.7954361  0.78844132 0.80037953 0.79839544 0.78800414 0.77216498\n",
      " 0.77986598 0.79277943 0.810031   0.79728569 0.80253178 0.81023277\n",
      " 0.81255315 0.82496218 0.84080133 0.84265092 0.84039779 0.84133939\n",
      " 0.83938892 0.85472365 0.85563163 0.87459826 0.87422835 0.8800125\n",
      " 0.88717543 0.90970671 0.89988711 0.90785713 0.90311547 0.91925729\n",
      " 0.94091423 0.94326824 0.96556412 0.951171   0.94666475 0.95977997\n",
      " 0.97151642 0.9642526  0.96805265 0.97319786 0.97010401 0.93862747\n",
      " 0.96801903 0.99038217 0.98880161 0.94051068 0.93765223 0.97191996\n",
      " 0.98066345 0.99330787 0.97588816 0.98099974 0.97447575 1.\n",
      " 0.99216449 0.99243352 0.9724244  0.9879609  0.97679614 0.95241527\n",
      " 0.90240927 0.86844419 0.88381255 0.81948068 0.81894262 0.87037301\n",
      " 0.87722141 0.88458687 0.89027119 0.89526194 0.90002841 0.90470666\n",
      " 0.90934271 0.9139542  0.91854733 0.92312366]\n"
     ]
    },
    {
     "name": "stdout",
     "output_type": "stream",
     "text": [
      "11 day output [[0.9276827]]\n",
      "12 day input [0.71745095 0.7187961  0.72888474 0.73719105 0.71782087 0.71771998\n",
      " 0.73621581 0.75995774 0.76560737 0.76436311 0.76473302 0.77209773\n",
      " 0.77448537 0.7814129  0.78060581 0.78904663 0.78289257 0.79338475\n",
      " 0.797891   0.79516707 0.78474215 0.78077395 0.78000049 0.7954361\n",
      " 0.78844132 0.80037953 0.79839544 0.78800414 0.77216498 0.77986598\n",
      " 0.79277943 0.810031   0.79728569 0.80253178 0.81023277 0.81255315\n",
      " 0.82496218 0.84080133 0.84265092 0.84039779 0.84133939 0.83938892\n",
      " 0.85472365 0.85563163 0.87459826 0.87422835 0.8800125  0.88717543\n",
      " 0.90970671 0.89988711 0.90785713 0.90311547 0.91925729 0.94091423\n",
      " 0.94326824 0.96556412 0.951171   0.94666475 0.95977997 0.97151642\n",
      " 0.9642526  0.96805265 0.97319786 0.97010401 0.93862747 0.96801903\n",
      " 0.99038217 0.98880161 0.94051068 0.93765223 0.97191996 0.98066345\n",
      " 0.99330787 0.97588816 0.98099974 0.97447575 1.         0.99216449\n",
      " 0.99243352 0.9724244  0.9879609  0.97679614 0.95241527 0.90240927\n",
      " 0.86844419 0.88381255 0.81948068 0.81894262 0.87037301 0.87722141\n",
      " 0.88458687 0.89027119 0.89526194 0.90002841 0.90470666 0.90934271\n",
      " 0.9139542  0.91854733 0.92312366 0.9276827 ]\n",
      "12 day output [[0.93222386]]\n",
      "13 day input [0.7187961  0.72888474 0.73719105 0.71782087 0.71771998 0.73621581\n",
      " 0.75995774 0.76560737 0.76436311 0.76473302 0.77209773 0.77448537\n",
      " 0.7814129  0.78060581 0.78904663 0.78289257 0.79338475 0.797891\n",
      " 0.79516707 0.78474215 0.78077395 0.78000049 0.7954361  0.78844132\n",
      " 0.80037953 0.79839544 0.78800414 0.77216498 0.77986598 0.79277943\n",
      " 0.810031   0.79728569 0.80253178 0.81023277 0.81255315 0.82496218\n",
      " 0.84080133 0.84265092 0.84039779 0.84133939 0.83938892 0.85472365\n",
      " 0.85563163 0.87459826 0.87422835 0.8800125  0.88717543 0.90970671\n",
      " 0.89988711 0.90785713 0.90311547 0.91925729 0.94091423 0.94326824\n",
      " 0.96556412 0.951171   0.94666475 0.95977997 0.97151642 0.9642526\n",
      " 0.96805265 0.97319786 0.97010401 0.93862747 0.96801903 0.99038217\n",
      " 0.98880161 0.94051068 0.93765223 0.97191996 0.98066345 0.99330787\n",
      " 0.97588816 0.98099974 0.97447575 1.         0.99216449 0.99243352\n",
      " 0.9724244  0.9879609  0.97679614 0.95241527 0.90240927 0.86844419\n",
      " 0.88381255 0.81948068 0.81894262 0.87037301 0.87722141 0.88458687\n",
      " 0.89027119 0.89526194 0.90002841 0.90470666 0.90934271 0.9139542\n",
      " 0.91854733 0.92312366 0.9276827  0.93222386]\n",
      "13 day output [[0.93674606]]\n",
      "14 day input [0.72888474 0.73719105 0.71782087 0.71771998 0.73621581 0.75995774\n",
      " 0.76560737 0.76436311 0.76473302 0.77209773 0.77448537 0.7814129\n",
      " 0.78060581 0.78904663 0.78289257 0.79338475 0.797891   0.79516707\n",
      " 0.78474215 0.78077395 0.78000049 0.7954361  0.78844132 0.80037953\n",
      " 0.79839544 0.78800414 0.77216498 0.77986598 0.79277943 0.810031\n",
      " 0.79728569 0.80253178 0.81023277 0.81255315 0.82496218 0.84080133\n",
      " 0.84265092 0.84039779 0.84133939 0.83938892 0.85472365 0.85563163\n",
      " 0.87459826 0.87422835 0.8800125  0.88717543 0.90970671 0.89988711\n",
      " 0.90785713 0.90311547 0.91925729 0.94091423 0.94326824 0.96556412\n",
      " 0.951171   0.94666475 0.95977997 0.97151642 0.9642526  0.96805265\n",
      " 0.97319786 0.97010401 0.93862747 0.96801903 0.99038217 0.98880161\n",
      " 0.94051068 0.93765223 0.97191996 0.98066345 0.99330787 0.97588816\n",
      " 0.98099974 0.97447575 1.         0.99216449 0.99243352 0.9724244\n",
      " 0.9879609  0.97679614 0.95241527 0.90240927 0.86844419 0.88381255\n",
      " 0.81948068 0.81894262 0.87037301 0.87722141 0.88458687 0.89027119\n",
      " 0.89526194 0.90002841 0.90470666 0.90934271 0.9139542  0.91854733\n",
      " 0.92312366 0.9276827  0.93222386 0.93674606]\n",
      "14 day output [[0.94124824]]\n",
      "15 day input [0.73719105 0.71782087 0.71771998 0.73621581 0.75995774 0.76560737\n",
      " 0.76436311 0.76473302 0.77209773 0.77448537 0.7814129  0.78060581\n",
      " 0.78904663 0.78289257 0.79338475 0.797891   0.79516707 0.78474215\n",
      " 0.78077395 0.78000049 0.7954361  0.78844132 0.80037953 0.79839544\n",
      " 0.78800414 0.77216498 0.77986598 0.79277943 0.810031   0.79728569\n",
      " 0.80253178 0.81023277 0.81255315 0.82496218 0.84080133 0.84265092\n",
      " 0.84039779 0.84133939 0.83938892 0.85472365 0.85563163 0.87459826\n",
      " 0.87422835 0.8800125  0.88717543 0.90970671 0.89988711 0.90785713\n",
      " 0.90311547 0.91925729 0.94091423 0.94326824 0.96556412 0.951171\n",
      " 0.94666475 0.95977997 0.97151642 0.9642526  0.96805265 0.97319786\n",
      " 0.97010401 0.93862747 0.96801903 0.99038217 0.98880161 0.94051068\n",
      " 0.93765223 0.97191996 0.98066345 0.99330787 0.97588816 0.98099974\n",
      " 0.97447575 1.         0.99216449 0.99243352 0.9724244  0.9879609\n",
      " 0.97679614 0.95241527 0.90240927 0.86844419 0.88381255 0.81948068\n",
      " 0.81894262 0.87037301 0.87722141 0.88458687 0.89027119 0.89526194\n",
      " 0.90002841 0.90470666 0.90934271 0.9139542  0.91854733 0.92312366\n",
      " 0.9276827  0.93222386 0.93674606 0.94124824]\n",
      "15 day output [[0.9457297]]\n",
      "16 day input [0.71782087 0.71771998 0.73621581 0.75995774 0.76560737 0.76436311\n",
      " 0.76473302 0.77209773 0.77448537 0.7814129  0.78060581 0.78904663\n",
      " 0.78289257 0.79338475 0.797891   0.79516707 0.78474215 0.78077395\n",
      " 0.78000049 0.7954361  0.78844132 0.80037953 0.79839544 0.78800414\n",
      " 0.77216498 0.77986598 0.79277943 0.810031   0.79728569 0.80253178\n",
      " 0.81023277 0.81255315 0.82496218 0.84080133 0.84265092 0.84039779\n",
      " 0.84133939 0.83938892 0.85472365 0.85563163 0.87459826 0.87422835\n",
      " 0.8800125  0.88717543 0.90970671 0.89988711 0.90785713 0.90311547\n",
      " 0.91925729 0.94091423 0.94326824 0.96556412 0.951171   0.94666475\n",
      " 0.95977997 0.97151642 0.9642526  0.96805265 0.97319786 0.97010401\n",
      " 0.93862747 0.96801903 0.99038217 0.98880161 0.94051068 0.93765223\n",
      " 0.97191996 0.98066345 0.99330787 0.97588816 0.98099974 0.97447575\n",
      " 1.         0.99216449 0.99243352 0.9724244  0.9879609  0.97679614\n",
      " 0.95241527 0.90240927 0.86844419 0.88381255 0.81948068 0.81894262\n",
      " 0.87037301 0.87722141 0.88458687 0.89027119 0.89526194 0.90002841\n",
      " 0.90470666 0.90934271 0.9139542  0.91854733 0.92312366 0.9276827\n",
      " 0.93222386 0.93674606 0.94124824 0.94572967]\n",
      "16 day output [[0.9501894]]\n",
      "17 day input [0.71771998 0.73621581 0.75995774 0.76560737 0.76436311 0.76473302\n",
      " 0.77209773 0.77448537 0.7814129  0.78060581 0.78904663 0.78289257\n",
      " 0.79338475 0.797891   0.79516707 0.78474215 0.78077395 0.78000049\n",
      " 0.7954361  0.78844132 0.80037953 0.79839544 0.78800414 0.77216498\n",
      " 0.77986598 0.79277943 0.810031   0.79728569 0.80253178 0.81023277\n",
      " 0.81255315 0.82496218 0.84080133 0.84265092 0.84039779 0.84133939\n",
      " 0.83938892 0.85472365 0.85563163 0.87459826 0.87422835 0.8800125\n",
      " 0.88717543 0.90970671 0.89988711 0.90785713 0.90311547 0.91925729\n",
      " 0.94091423 0.94326824 0.96556412 0.951171   0.94666475 0.95977997\n",
      " 0.97151642 0.9642526  0.96805265 0.97319786 0.97010401 0.93862747\n",
      " 0.96801903 0.99038217 0.98880161 0.94051068 0.93765223 0.97191996\n",
      " 0.98066345 0.99330787 0.97588816 0.98099974 0.97447575 1.\n",
      " 0.99216449 0.99243352 0.9724244  0.9879609  0.97679614 0.95241527\n",
      " 0.90240927 0.86844419 0.88381255 0.81948068 0.81894262 0.87037301\n",
      " 0.87722141 0.88458687 0.89027119 0.89526194 0.90002841 0.90470666\n",
      " 0.90934271 0.9139542  0.91854733 0.92312366 0.9276827  0.93222386\n",
      " 0.93674606 0.94124824 0.94572967 0.95018941]\n",
      "17 day output [[0.9546267]]\n",
      "18 day input [0.73621581 0.75995774 0.76560737 0.76436311 0.76473302 0.77209773\n",
      " 0.77448537 0.7814129  0.78060581 0.78904663 0.78289257 0.79338475\n",
      " 0.797891   0.79516707 0.78474215 0.78077395 0.78000049 0.7954361\n",
      " 0.78844132 0.80037953 0.79839544 0.78800414 0.77216498 0.77986598\n",
      " 0.79277943 0.810031   0.79728569 0.80253178 0.81023277 0.81255315\n",
      " 0.82496218 0.84080133 0.84265092 0.84039779 0.84133939 0.83938892\n",
      " 0.85472365 0.85563163 0.87459826 0.87422835 0.8800125  0.88717543\n",
      " 0.90970671 0.89988711 0.90785713 0.90311547 0.91925729 0.94091423\n",
      " 0.94326824 0.96556412 0.951171   0.94666475 0.95977997 0.97151642\n",
      " 0.9642526  0.96805265 0.97319786 0.97010401 0.93862747 0.96801903\n",
      " 0.99038217 0.98880161 0.94051068 0.93765223 0.97191996 0.98066345\n",
      " 0.99330787 0.97588816 0.98099974 0.97447575 1.         0.99216449\n",
      " 0.99243352 0.9724244  0.9879609  0.97679614 0.95241527 0.90240927\n",
      " 0.86844419 0.88381255 0.81948068 0.81894262 0.87037301 0.87722141\n",
      " 0.88458687 0.89027119 0.89526194 0.90002841 0.90470666 0.90934271\n",
      " 0.9139542  0.91854733 0.92312366 0.9276827  0.93222386 0.93674606\n",
      " 0.94124824 0.94572967 0.95018941 0.95462668]\n",
      "18 day output [[0.95904064]]\n",
      "19 day input [0.75995774 0.76560737 0.76436311 0.76473302 0.77209773 0.77448537\n",
      " 0.7814129  0.78060581 0.78904663 0.78289257 0.79338475 0.797891\n",
      " 0.79516707 0.78474215 0.78077395 0.78000049 0.7954361  0.78844132\n",
      " 0.80037953 0.79839544 0.78800414 0.77216498 0.77986598 0.79277943\n",
      " 0.810031   0.79728569 0.80253178 0.81023277 0.81255315 0.82496218\n",
      " 0.84080133 0.84265092 0.84039779 0.84133939 0.83938892 0.85472365\n",
      " 0.85563163 0.87459826 0.87422835 0.8800125  0.88717543 0.90970671\n",
      " 0.89988711 0.90785713 0.90311547 0.91925729 0.94091423 0.94326824\n",
      " 0.96556412 0.951171   0.94666475 0.95977997 0.97151642 0.9642526\n",
      " 0.96805265 0.97319786 0.97010401 0.93862747 0.96801903 0.99038217\n",
      " 0.98880161 0.94051068 0.93765223 0.97191996 0.98066345 0.99330787\n",
      " 0.97588816 0.98099974 0.97447575 1.         0.99216449 0.99243352\n",
      " 0.9724244  0.9879609  0.97679614 0.95241527 0.90240927 0.86844419\n",
      " 0.88381255 0.81948068 0.81894262 0.87037301 0.87722141 0.88458687\n",
      " 0.89027119 0.89526194 0.90002841 0.90470666 0.90934271 0.9139542\n",
      " 0.91854733 0.92312366 0.9276827  0.93222386 0.93674606 0.94124824\n",
      " 0.94572967 0.95018941 0.95462668 0.95904064]\n"
     ]
    },
    {
     "name": "stdout",
     "output_type": "stream",
     "text": [
      "19 day output [[0.9634307]]\n",
      "20 day input [0.76560737 0.76436311 0.76473302 0.77209773 0.77448537 0.7814129\n",
      " 0.78060581 0.78904663 0.78289257 0.79338475 0.797891   0.79516707\n",
      " 0.78474215 0.78077395 0.78000049 0.7954361  0.78844132 0.80037953\n",
      " 0.79839544 0.78800414 0.77216498 0.77986598 0.79277943 0.810031\n",
      " 0.79728569 0.80253178 0.81023277 0.81255315 0.82496218 0.84080133\n",
      " 0.84265092 0.84039779 0.84133939 0.83938892 0.85472365 0.85563163\n",
      " 0.87459826 0.87422835 0.8800125  0.88717543 0.90970671 0.89988711\n",
      " 0.90785713 0.90311547 0.91925729 0.94091423 0.94326824 0.96556412\n",
      " 0.951171   0.94666475 0.95977997 0.97151642 0.9642526  0.96805265\n",
      " 0.97319786 0.97010401 0.93862747 0.96801903 0.99038217 0.98880161\n",
      " 0.94051068 0.93765223 0.97191996 0.98066345 0.99330787 0.97588816\n",
      " 0.98099974 0.97447575 1.         0.99216449 0.99243352 0.9724244\n",
      " 0.9879609  0.97679614 0.95241527 0.90240927 0.86844419 0.88381255\n",
      " 0.81948068 0.81894262 0.87037301 0.87722141 0.88458687 0.89027119\n",
      " 0.89526194 0.90002841 0.90470666 0.90934271 0.9139542  0.91854733\n",
      " 0.92312366 0.9276827  0.93222386 0.93674606 0.94124824 0.94572967\n",
      " 0.95018941 0.95462668 0.95904064 0.9634307 ]\n",
      "20 day output [[0.96779615]]\n",
      "21 day input [0.76436311 0.76473302 0.77209773 0.77448537 0.7814129  0.78060581\n",
      " 0.78904663 0.78289257 0.79338475 0.797891   0.79516707 0.78474215\n",
      " 0.78077395 0.78000049 0.7954361  0.78844132 0.80037953 0.79839544\n",
      " 0.78800414 0.77216498 0.77986598 0.79277943 0.810031   0.79728569\n",
      " 0.80253178 0.81023277 0.81255315 0.82496218 0.84080133 0.84265092\n",
      " 0.84039779 0.84133939 0.83938892 0.85472365 0.85563163 0.87459826\n",
      " 0.87422835 0.8800125  0.88717543 0.90970671 0.89988711 0.90785713\n",
      " 0.90311547 0.91925729 0.94091423 0.94326824 0.96556412 0.951171\n",
      " 0.94666475 0.95977997 0.97151642 0.9642526  0.96805265 0.97319786\n",
      " 0.97010401 0.93862747 0.96801903 0.99038217 0.98880161 0.94051068\n",
      " 0.93765223 0.97191996 0.98066345 0.99330787 0.97588816 0.98099974\n",
      " 0.97447575 1.         0.99216449 0.99243352 0.9724244  0.9879609\n",
      " 0.97679614 0.95241527 0.90240927 0.86844419 0.88381255 0.81948068\n",
      " 0.81894262 0.87037301 0.87722141 0.88458687 0.89027119 0.89526194\n",
      " 0.90002841 0.90470666 0.90934271 0.9139542  0.91854733 0.92312366\n",
      " 0.9276827  0.93222386 0.93674606 0.94124824 0.94572967 0.95018941\n",
      " 0.95462668 0.95904064 0.9634307  0.96779615]\n",
      "21 day output [[0.9721364]]\n",
      "22 day input [0.76473302 0.77209773 0.77448537 0.7814129  0.78060581 0.78904663\n",
      " 0.78289257 0.79338475 0.797891   0.79516707 0.78474215 0.78077395\n",
      " 0.78000049 0.7954361  0.78844132 0.80037953 0.79839544 0.78800414\n",
      " 0.77216498 0.77986598 0.79277943 0.810031   0.79728569 0.80253178\n",
      " 0.81023277 0.81255315 0.82496218 0.84080133 0.84265092 0.84039779\n",
      " 0.84133939 0.83938892 0.85472365 0.85563163 0.87459826 0.87422835\n",
      " 0.8800125  0.88717543 0.90970671 0.89988711 0.90785713 0.90311547\n",
      " 0.91925729 0.94091423 0.94326824 0.96556412 0.951171   0.94666475\n",
      " 0.95977997 0.97151642 0.9642526  0.96805265 0.97319786 0.97010401\n",
      " 0.93862747 0.96801903 0.99038217 0.98880161 0.94051068 0.93765223\n",
      " 0.97191996 0.98066345 0.99330787 0.97588816 0.98099974 0.97447575\n",
      " 1.         0.99216449 0.99243352 0.9724244  0.9879609  0.97679614\n",
      " 0.95241527 0.90240927 0.86844419 0.88381255 0.81948068 0.81894262\n",
      " 0.87037301 0.87722141 0.88458687 0.89027119 0.89526194 0.90002841\n",
      " 0.90470666 0.90934271 0.9139542  0.91854733 0.92312366 0.9276827\n",
      " 0.93222386 0.93674606 0.94124824 0.94572967 0.95018941 0.95462668\n",
      " 0.95904064 0.9634307  0.96779615 0.97213638]\n",
      "22 day output [[0.97645086]]\n",
      "23 day input [0.77209773 0.77448537 0.7814129  0.78060581 0.78904663 0.78289257\n",
      " 0.79338475 0.797891   0.79516707 0.78474215 0.78077395 0.78000049\n",
      " 0.7954361  0.78844132 0.80037953 0.79839544 0.78800414 0.77216498\n",
      " 0.77986598 0.79277943 0.810031   0.79728569 0.80253178 0.81023277\n",
      " 0.81255315 0.82496218 0.84080133 0.84265092 0.84039779 0.84133939\n",
      " 0.83938892 0.85472365 0.85563163 0.87459826 0.87422835 0.8800125\n",
      " 0.88717543 0.90970671 0.89988711 0.90785713 0.90311547 0.91925729\n",
      " 0.94091423 0.94326824 0.96556412 0.951171   0.94666475 0.95977997\n",
      " 0.97151642 0.9642526  0.96805265 0.97319786 0.97010401 0.93862747\n",
      " 0.96801903 0.99038217 0.98880161 0.94051068 0.93765223 0.97191996\n",
      " 0.98066345 0.99330787 0.97588816 0.98099974 0.97447575 1.\n",
      " 0.99216449 0.99243352 0.9724244  0.9879609  0.97679614 0.95241527\n",
      " 0.90240927 0.86844419 0.88381255 0.81948068 0.81894262 0.87037301\n",
      " 0.87722141 0.88458687 0.89027119 0.89526194 0.90002841 0.90470666\n",
      " 0.90934271 0.9139542  0.91854733 0.92312366 0.9276827  0.93222386\n",
      " 0.93674606 0.94124824 0.94572967 0.95018941 0.95462668 0.95904064\n",
      " 0.9634307  0.96779615 0.97213638 0.97645086]\n",
      "23 day output [[0.98073906]]\n",
      "24 day input [0.77448537 0.7814129  0.78060581 0.78904663 0.78289257 0.79338475\n",
      " 0.797891   0.79516707 0.78474215 0.78077395 0.78000049 0.7954361\n",
      " 0.78844132 0.80037953 0.79839544 0.78800414 0.77216498 0.77986598\n",
      " 0.79277943 0.810031   0.79728569 0.80253178 0.81023277 0.81255315\n",
      " 0.82496218 0.84080133 0.84265092 0.84039779 0.84133939 0.83938892\n",
      " 0.85472365 0.85563163 0.87459826 0.87422835 0.8800125  0.88717543\n",
      " 0.90970671 0.89988711 0.90785713 0.90311547 0.91925729 0.94091423\n",
      " 0.94326824 0.96556412 0.951171   0.94666475 0.95977997 0.97151642\n",
      " 0.9642526  0.96805265 0.97319786 0.97010401 0.93862747 0.96801903\n",
      " 0.99038217 0.98880161 0.94051068 0.93765223 0.97191996 0.98066345\n",
      " 0.99330787 0.97588816 0.98099974 0.97447575 1.         0.99216449\n",
      " 0.99243352 0.9724244  0.9879609  0.97679614 0.95241527 0.90240927\n",
      " 0.86844419 0.88381255 0.81948068 0.81894262 0.87037301 0.87722141\n",
      " 0.88458687 0.89027119 0.89526194 0.90002841 0.90470666 0.90934271\n",
      " 0.9139542  0.91854733 0.92312366 0.9276827  0.93222386 0.93674606\n",
      " 0.94124824 0.94572967 0.95018941 0.95462668 0.95904064 0.9634307\n",
      " 0.96779615 0.97213638 0.97645086 0.98073906]\n",
      "24 day output [[0.9850003]]\n",
      "25 day input [0.7814129  0.78060581 0.78904663 0.78289257 0.79338475 0.797891\n",
      " 0.79516707 0.78474215 0.78077395 0.78000049 0.7954361  0.78844132\n",
      " 0.80037953 0.79839544 0.78800414 0.77216498 0.77986598 0.79277943\n",
      " 0.810031   0.79728569 0.80253178 0.81023277 0.81255315 0.82496218\n",
      " 0.84080133 0.84265092 0.84039779 0.84133939 0.83938892 0.85472365\n",
      " 0.85563163 0.87459826 0.87422835 0.8800125  0.88717543 0.90970671\n",
      " 0.89988711 0.90785713 0.90311547 0.91925729 0.94091423 0.94326824\n",
      " 0.96556412 0.951171   0.94666475 0.95977997 0.97151642 0.9642526\n",
      " 0.96805265 0.97319786 0.97010401 0.93862747 0.96801903 0.99038217\n",
      " 0.98880161 0.94051068 0.93765223 0.97191996 0.98066345 0.99330787\n",
      " 0.97588816 0.98099974 0.97447575 1.         0.99216449 0.99243352\n",
      " 0.9724244  0.9879609  0.97679614 0.95241527 0.90240927 0.86844419\n",
      " 0.88381255 0.81948068 0.81894262 0.87037301 0.87722141 0.88458687\n",
      " 0.89027119 0.89526194 0.90002841 0.90470666 0.90934271 0.9139542\n",
      " 0.91854733 0.92312366 0.9276827  0.93222386 0.93674606 0.94124824\n",
      " 0.94572967 0.95018941 0.95462668 0.95904064 0.9634307  0.96779615\n",
      " 0.97213638 0.97645086 0.98073906 0.98500031]\n",
      "25 day output [[0.98923427]]\n",
      "26 day input [0.78060581 0.78904663 0.78289257 0.79338475 0.797891   0.79516707\n",
      " 0.78474215 0.78077395 0.78000049 0.7954361  0.78844132 0.80037953\n",
      " 0.79839544 0.78800414 0.77216498 0.77986598 0.79277943 0.810031\n",
      " 0.79728569 0.80253178 0.81023277 0.81255315 0.82496218 0.84080133\n",
      " 0.84265092 0.84039779 0.84133939 0.83938892 0.85472365 0.85563163\n",
      " 0.87459826 0.87422835 0.8800125  0.88717543 0.90970671 0.89988711\n",
      " 0.90785713 0.90311547 0.91925729 0.94091423 0.94326824 0.96556412\n",
      " 0.951171   0.94666475 0.95977997 0.97151642 0.9642526  0.96805265\n",
      " 0.97319786 0.97010401 0.93862747 0.96801903 0.99038217 0.98880161\n",
      " 0.94051068 0.93765223 0.97191996 0.98066345 0.99330787 0.97588816\n",
      " 0.98099974 0.97447575 1.         0.99216449 0.99243352 0.9724244\n",
      " 0.9879609  0.97679614 0.95241527 0.90240927 0.86844419 0.88381255\n",
      " 0.81948068 0.81894262 0.87037301 0.87722141 0.88458687 0.89027119\n",
      " 0.89526194 0.90002841 0.90470666 0.90934271 0.9139542  0.91854733\n",
      " 0.92312366 0.9276827  0.93222386 0.93674606 0.94124824 0.94572967\n",
      " 0.95018941 0.95462668 0.95904064 0.9634307  0.96779615 0.97213638\n",
      " 0.97645086 0.98073906 0.98500031 0.98923427]\n",
      "26 day output [[0.9934404]]\n",
      "27 day input [0.78904663 0.78289257 0.79338475 0.797891   0.79516707 0.78474215\n",
      " 0.78077395 0.78000049 0.7954361  0.78844132 0.80037953 0.79839544\n",
      " 0.78800414 0.77216498 0.77986598 0.79277943 0.810031   0.79728569\n",
      " 0.80253178 0.81023277 0.81255315 0.82496218 0.84080133 0.84265092\n",
      " 0.84039779 0.84133939 0.83938892 0.85472365 0.85563163 0.87459826\n",
      " 0.87422835 0.8800125  0.88717543 0.90970671 0.89988711 0.90785713\n",
      " 0.90311547 0.91925729 0.94091423 0.94326824 0.96556412 0.951171\n",
      " 0.94666475 0.95977997 0.97151642 0.9642526  0.96805265 0.97319786\n",
      " 0.97010401 0.93862747 0.96801903 0.99038217 0.98880161 0.94051068\n",
      " 0.93765223 0.97191996 0.98066345 0.99330787 0.97588816 0.98099974\n",
      " 0.97447575 1.         0.99216449 0.99243352 0.9724244  0.9879609\n",
      " 0.97679614 0.95241527 0.90240927 0.86844419 0.88381255 0.81948068\n",
      " 0.81894262 0.87037301 0.87722141 0.88458687 0.89027119 0.89526194\n",
      " 0.90002841 0.90470666 0.90934271 0.9139542  0.91854733 0.92312366\n",
      " 0.9276827  0.93222386 0.93674606 0.94124824 0.94572967 0.95018941\n",
      " 0.95462668 0.95904064 0.9634307  0.96779615 0.97213638 0.97645086\n",
      " 0.98073906 0.98500031 0.98923427 0.99344039]\n"
     ]
    },
    {
     "name": "stdout",
     "output_type": "stream",
     "text": [
      "27 day output [[0.9976182]]\n",
      "28 day input [0.78289257 0.79338475 0.797891   0.79516707 0.78474215 0.78077395\n",
      " 0.78000049 0.7954361  0.78844132 0.80037953 0.79839544 0.78800414\n",
      " 0.77216498 0.77986598 0.79277943 0.810031   0.79728569 0.80253178\n",
      " 0.81023277 0.81255315 0.82496218 0.84080133 0.84265092 0.84039779\n",
      " 0.84133939 0.83938892 0.85472365 0.85563163 0.87459826 0.87422835\n",
      " 0.8800125  0.88717543 0.90970671 0.89988711 0.90785713 0.90311547\n",
      " 0.91925729 0.94091423 0.94326824 0.96556412 0.951171   0.94666475\n",
      " 0.95977997 0.97151642 0.9642526  0.96805265 0.97319786 0.97010401\n",
      " 0.93862747 0.96801903 0.99038217 0.98880161 0.94051068 0.93765223\n",
      " 0.97191996 0.98066345 0.99330787 0.97588816 0.98099974 0.97447575\n",
      " 1.         0.99216449 0.99243352 0.9724244  0.9879609  0.97679614\n",
      " 0.95241527 0.90240927 0.86844419 0.88381255 0.81948068 0.81894262\n",
      " 0.87037301 0.87722141 0.88458687 0.89027119 0.89526194 0.90002841\n",
      " 0.90470666 0.90934271 0.9139542  0.91854733 0.92312366 0.9276827\n",
      " 0.93222386 0.93674606 0.94124824 0.94572967 0.95018941 0.95462668\n",
      " 0.95904064 0.9634307  0.96779615 0.97213638 0.97645086 0.98073906\n",
      " 0.98500031 0.98923427 0.99344039 0.9976182 ]\n",
      "28 day output [[1.0017673]]\n",
      "29 day input [0.79338475 0.797891   0.79516707 0.78474215 0.78077395 0.78000049\n",
      " 0.7954361  0.78844132 0.80037953 0.79839544 0.78800414 0.77216498\n",
      " 0.77986598 0.79277943 0.810031   0.79728569 0.80253178 0.81023277\n",
      " 0.81255315 0.82496218 0.84080133 0.84265092 0.84039779 0.84133939\n",
      " 0.83938892 0.85472365 0.85563163 0.87459826 0.87422835 0.8800125\n",
      " 0.88717543 0.90970671 0.89988711 0.90785713 0.90311547 0.91925729\n",
      " 0.94091423 0.94326824 0.96556412 0.951171   0.94666475 0.95977997\n",
      " 0.97151642 0.9642526  0.96805265 0.97319786 0.97010401 0.93862747\n",
      " 0.96801903 0.99038217 0.98880161 0.94051068 0.93765223 0.97191996\n",
      " 0.98066345 0.99330787 0.97588816 0.98099974 0.97447575 1.\n",
      " 0.99216449 0.99243352 0.9724244  0.9879609  0.97679614 0.95241527\n",
      " 0.90240927 0.86844419 0.88381255 0.81948068 0.81894262 0.87037301\n",
      " 0.87722141 0.88458687 0.89027119 0.89526194 0.90002841 0.90470666\n",
      " 0.90934271 0.9139542  0.91854733 0.92312366 0.9276827  0.93222386\n",
      " 0.93674606 0.94124824 0.94572967 0.95018941 0.95462668 0.95904064\n",
      " 0.9634307  0.96779615 0.97213638 0.97645086 0.98073906 0.98500031\n",
      " 0.98923427 0.99344039 0.9976182  1.00176728]\n",
      "29 day output [[1.0058873]]\n",
      "[[0.870373010635376], [0.877221405506134], [0.8845868706703186], [0.8902711868286133], [0.8952619433403015], [0.9000284075737], [0.9047066569328308], [0.9093427062034607], [0.9139541983604431], [0.9185473322868347], [0.9231236577033997], [0.9276826977729797], [0.9322238564491272], [0.9367460608482361], [0.9412482380867004], [0.945729672908783], [0.9501894116401672], [0.9546266794204712], [0.959040641784668], [0.9634307026863098], [0.9677961468696594], [0.972136378288269], [0.9764508605003357], [0.9807390570640564], [0.9850003123283386], [0.9892342686653137], [0.9934403896331787], [0.9976181983947754], [1.0017672777175903], [1.0058872699737549]]\n"
     ]
    }
   ],
   "source": [
    "from numpy import array\n",
    "lst_output=[]\n",
    "n_steps=100\n",
    "i=0\n",
    "while(i<30):  \n",
    "    if(len(temp_input)>100):\n",
    "        x_input=np.array(temp_input[1:])\n",
    "        print(\"{} day input {}\".format(i,x_input))\n",
    "        x_input=x_input.reshape(1,-1)\n",
    "        x_input = x_input.reshape((1, n_steps, 1))\n",
    "        yhat = model.predict(x_input, verbose=0)\n",
    "        print(\"{} day output {}\".format(i,yhat))\n",
    "        temp_input.extend(yhat[0].tolist())\n",
    "        temp_input=temp_input[1:]\n",
    "        lst_output.extend(yhat.tolist())\n",
    "        i=i+1\n",
    "    else:\n",
    "        x_input = x_input.reshape((1, n_steps,1))\n",
    "        yhat = model.predict(x_input, verbose=0)\n",
    "        print(yhat[0])\n",
    "        temp_input.extend(yhat[0].tolist())\n",
    "        print(len(temp_input))\n",
    "        lst_output.extend(yhat.tolist())\n",
    "        i=i+1\n",
    "print(lst_output)"
   ]
  },
  {
   "cell_type": "code",
   "execution_count": 40,
   "id": "0cf28bb5",
   "metadata": {},
   "outputs": [],
   "source": [
    "day_new=np.arange(1,201)\n",
    "day_pred=np.arange(201,231)"
   ]
  },
  {
   "cell_type": "code",
   "execution_count": 41,
   "id": "cfbc8c12",
   "metadata": {},
   "outputs": [
    {
     "data": {
      "text/plain": [
       "[<matplotlib.lines.Line2D at 0x184291ee4f0>]"
      ]
     },
     "execution_count": 41,
     "metadata": {},
     "output_type": "execute_result"
    },
    {
     "data": {
      "image/png": "[encoded data removed]",
      "text/plain": [
       "<Figure size 432x288 with 1 Axes>"
      ]
     },
     "metadata": {},
     "output_type": "display_data"
    }
   ],
   "source": [
    "plt.plot(day_new,scaler.inverse_transform(X_plot_full))\n",
    "plt.plot(day_pred,scaler.inverse_transform(lst_output))"
   ]
  },
  {
   "cell_type": "code",
   "execution_count": 42,
   "id": "c31b2e55",
   "metadata": {},
   "outputs": [
    {
     "data": {
      "text/plain": [
       "[<matplotlib.lines.Line2D at 0x1841c7badc0>]"
      ]
     },
     "execution_count": 42,
     "metadata": {},
     "output_type": "execute_result"
    },
    {
     "data": {
      "image/png": "[encoded data removed]",
      "text/plain": [
       "<Figure size 432x288 with 1 Axes>"
      ]
     },
     "metadata": {},
     "output_type": "display_data"
    }
   ],
   "source": [
    "plt.plot(temp_input)"
   ]
  },
  {
   "cell_type": "code",
   "execution_count": null,
   "id": "d5085861",
   "metadata": {},
   "outputs": [],
   "source": []
  },
  {
   "cell_type": "code",
   "execution_count": null,
   "id": "e23397f5",
   "metadata": {},
   "outputs": [],
   "source": []
  }
 ],
 "metadata": {
  "kernelspec": {
   "display_name": "Python 3 (ipykernel)",
   "language": "python",
   "name": "python3"
  },
  "language_info": {
   "codemirror_mode": {
    "name": "ipython",
    "version": 3
   },
   "file_extension": ".py",
   "mimetype": "text/x-python",
   "name": "python",
   "nbconvert_exporter": "python",
   "pygments_lexer": "ipython3",
   "version": "3.9.12"
  }
 },
 "nbformat": 4,
 "nbformat_minor": 5
}
